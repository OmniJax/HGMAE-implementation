{
 "cells": [
  {
   "metadata": {
    "ExecuteTime": {
     "end_time": "2024-06-18T12:26:42.468841Z",
     "start_time": "2024-06-18T12:26:38.915450Z"
    }
   },
   "cell_type": "code",
   "source": [
    "import argparse\n",
    "import logging\n",
    "import dgl\n",
    "import yaml\n",
    "\n",
    "parser = argparse.ArgumentParser(description=\"GAT\")\n",
    "parser.add_argument(\n",
    "    \"--task\",\n",
    "    type=str,\n",
    "    default=\"classification\",\n",
    "    choices=[\"classification\", \"clustering\"],\n",
    ")\n",
    "parser.add_argument(\"--dataset\", type=str, default=\"acm\")\n",
    "args, _ = parser.parse_known_args()\n",
    "\n",
    "\n",
    "def load_best_configs(args, path):\n",
    "    with open(path, \"r\") as f:\n",
    "        configs = yaml.load(f, yaml.FullLoader)\n",
    "\n",
    "    if args.dataset not in configs:\n",
    "        logging.info(\"Best args not found\")\n",
    "        return args\n",
    "\n",
    "    configs = configs[args.dataset]\n",
    "\n",
    "    for k, v in configs.items():\n",
    "        if \"lr\" in k or \"weight_decay\" in k:\n",
    "            v = float(v)\n",
    "        setattr(args, k, v)\n",
    "    print(\"------ Use best configs ------\")\n",
    "    return args"
   ],
   "id": "02b84856-33ce-4fe3-a9d2-d0bf8d973f05",
   "outputs": [
    {
     "name": "stderr",
     "output_type": "stream",
     "text": [
      "E:\\Softwares\\anaconda3\\envs\\GML\\lib\\site-packages\\tqdm\\auto.py:21: TqdmWarning: IProgress not found. Please update jupyter and ipywidgets. See https://ipywidgets.readthedocs.io/en/stable/user_install.html\n",
      "  from .autonotebook import tqdm as notebook_tqdm\n"
     ]
    }
   ],
   "execution_count": 1
  },
  {
   "cell_type": "code",
   "id": "eab884e5-44cf-499d-943a-d6bd2ec8bc7b",
   "metadata": {
    "tags": [],
    "ExecuteTime": {
     "end_time": "2024-06-18T12:26:42.483839Z",
     "start_time": "2024-06-18T12:26:42.470843Z"
    }
   },
   "source": [
    "parser = argparse.ArgumentParser(description=\"GAT\")\n",
    "parser.add_argument(\n",
    "    \"--task\",\n",
    "    type=str,\n",
    "    default=\"classification\",\n",
    "    choices=[\"classification\", \"clustering\"],\n",
    ")\n",
    "parser.add_argument(\"--dataset\", type=str, default=\"acm\")\n",
    "args, _ = parser.parse_known_args()\n",
    "\n",
    "args = load_best_configs(args, \"../myHGMAE/configs.yml\")\n",
    "args"
   ],
   "outputs": [
    {
     "name": "stdout",
     "output_type": "stream",
     "text": [
      "------ Use best configs ------\n"
     ]
    },
    {
     "data": {
      "text/plain": [
       "Namespace(task='classification', dataset='acm', in_dim=1902, hidden_dim=1024, category='paper', feat_drop=0.2, attn_drop=0.5, negative_slope=0.2, n_labels=3, nei_num=2, norm='batchnorm', num_heads=4, num_layers=2, num_out_heads=1, residual=False, mp_edge_recon_loss_weight=1, mp_edge_mask_rate=0.6, mp_edge_gamma=3, node_mask_rate='0.5,0.005,0.8', attr_restore_loss_weight=1, attr_restore_gamma=1, attr_replace_rate=0.2, attr_unchanged_rate=0.3, mp2vec_negative_size=5, mp2vec_window_size=5, mp2vec_batch_size=256, mp2vec_rw_length=5, mp2vec_walks_per_node=3, mp2vec_train_epoch=2, mp2vec_train_lr=0.01, mp2vec_feat_dim=128, mp2vec_feat_pred_loss_weight=0.1, mp2vec_feat_gamma=1, mp2vec_feat_drop=0.2, optimizer='adam', patience=10, gpu=0, mae_epochs=1000, eva_lr=0.01, eva_wd=0.0005, scheduler=True, scheduler_gamma=0.999, l2_coef=0, lr=0.0008)"
      ]
     },
     "execution_count": 2,
     "metadata": {},
     "output_type": "execute_result"
    }
   ],
   "execution_count": 2
  },
  {
   "cell_type": "code",
   "id": "15d81994-0ad0-40dc-82f1-74187bbba4dd",
   "metadata": {
    "ExecuteTime": {
     "end_time": "2024-06-18T12:26:42.498650Z",
     "start_time": "2024-06-18T12:26:42.484844Z"
    }
   },
   "source": "",
   "outputs": [],
   "execution_count": 2
  },
  {
   "cell_type": "code",
   "id": "55519b0b-d2f4-4117-be63-9c59f9f46d7f",
   "metadata": {
    "tags": [],
    "ExecuteTime": {
     "end_time": "2024-06-18T12:26:44.369190Z",
     "start_time": "2024-06-18T12:26:42.500649Z"
    }
   },
   "source": [
    "from openhgnn.dataset.NodeClassificationDataset import OHGB_NodeClassification"
   ],
   "outputs": [],
   "execution_count": 3
  },
  {
   "cell_type": "code",
   "id": "737e1d66-879c-4f39-ac21-e91f244c9e5a",
   "metadata": {
    "tags": [],
    "ExecuteTime": {
     "end_time": "2024-06-18T12:26:44.549674Z",
     "start_time": "2024-06-18T12:26:44.370192Z"
    }
   },
   "source": [
    "acm = OHGB_NodeClassification(\"ohgbn-acm\", raw_dir=\"./dataset\", logger=None)"
   ],
   "outputs": [
    {
     "name": "stdout",
     "output_type": "stream",
     "text": [
      "Extracting file to ./openhgnn/dataset\\ohgbn-acm\n",
      "Done saving data into cached files.\n"
     ]
    }
   ],
   "execution_count": 4
  },
  {
   "cell_type": "code",
   "id": "0e378720-890b-4ed7-a218-0428e760651f",
   "metadata": {
    "tags": [],
    "ExecuteTime": {
     "end_time": "2024-06-18T12:26:44.565193Z",
     "start_time": "2024-06-18T12:26:44.551675Z"
    }
   },
   "source": [
    "hg = acm.g\n",
    "metapaths_dict = acm.meta_paths_dict"
   ],
   "outputs": [],
   "execution_count": 5
  },
  {
   "cell_type": "code",
   "id": "b7e036ac-636d-4820-9353-e68be1b31b25",
   "metadata": {
    "ExecuteTime": {
     "end_time": "2024-06-18T12:26:44.580681Z",
     "start_time": "2024-06-18T12:26:44.567191Z"
    }
   },
   "source": [
    "from torch.utils.data import DataLoader"
   ],
   "outputs": [],
   "execution_count": 6
  },
  {
   "cell_type": "code",
   "id": "82b2d3e0-e9ba-4ba8-bc73-1a7400c67d75",
   "metadata": {
    "ExecuteTime": {
     "end_time": "2024-06-18T12:26:44.595680Z",
     "start_time": "2024-06-18T12:26:44.582681Z"
    }
   },
   "source": [],
   "outputs": [],
   "execution_count": 6
  },
  {
   "cell_type": "code",
   "id": "b8a12573-0d85-40e1-b636-8279646c62b3",
   "metadata": {
    "ExecuteTime": {
     "end_time": "2024-06-18T12:26:44.610723Z",
     "start_time": "2024-06-18T12:26:44.597721Z"
    }
   },
   "source": [],
   "outputs": [],
   "execution_count": 6
  },
  {
   "cell_type": "code",
   "id": "6b18cd4d-2e41-482b-9db8-1f75f0bf7fbb",
   "metadata": {
    "ExecuteTime": {
     "end_time": "2024-06-18T12:26:44.625723Z",
     "start_time": "2024-06-18T12:26:44.612725Z"
    }
   },
   "source": [],
   "outputs": [],
   "execution_count": 6
  },
  {
   "cell_type": "code",
   "id": "8d987079-3810-4143-97a2-a301e630c0b8",
   "metadata": {
    "ExecuteTime": {
     "end_time": "2024-06-18T12:26:44.640723Z",
     "start_time": "2024-06-18T12:26:44.626726Z"
    }
   },
   "source": [],
   "outputs": [],
   "execution_count": 6
  },
  {
   "cell_type": "code",
   "id": "ea669594-d95c-4c40-b048-995208502b55",
   "metadata": {
    "tags": [],
    "ExecuteTime": {
     "end_time": "2024-06-18T12:33:36.320838Z",
     "start_time": "2024-06-18T12:33:36.308324Z"
    }
   },
   "source": [
    "import importlib\n",
    "\n",
    "import dgl\n",
    "import hgmae\n",
    "import torch\n",
    "\n",
    "importlib.reload(hgmae)\n",
    "from hgmae import HGMAE\n",
    "\n",
    "h_dict = hg.ndata[\"h\"]\n",
    "mp2vec_feat_dict = hg.ndata[\"pap_m2v_emb\"].copy()\n",
    "mp2vec_feat_dict\n",
    "for k, v in hg.ndata[\"psp_m2v_emb\"].items():\n",
    "    mp2vec_feat_dict[k] = torch.concat([mp2vec_feat_dict[k], v], dim=1)"
   ],
   "outputs": [],
   "execution_count": 14
  },
  {
   "cell_type": "code",
   "id": "67b6fd61-67c7-4f74-ad01-e01608cbbed8",
   "metadata": {
    "tags": [],
    "ExecuteTime": {
     "end_time": "2024-06-18T12:33:36.756368Z",
     "start_time": "2024-06-18T12:33:36.622852Z"
    }
   },
   "source": [
    "model = HGMAE.build_model_from_args(args, hg, metapaths_dict).to(\"cuda\")"
   ],
   "outputs": [],
   "execution_count": 15
  },
  {
   "cell_type": "code",
   "id": "2815f08e-6155-4e21-a3e7-e0843f1bb3d4",
   "metadata": {
    "tags": [],
    "ExecuteTime": {
     "end_time": "2024-06-18T12:33:41.926464Z",
     "start_time": "2024-06-18T12:33:38.279267Z"
    }
   },
   "source": [
    "loss=model.forward(hg.to(\"cuda\"), h_dict, epoch=3)"
   ],
   "outputs": [
    {
     "name": "stdout",
     "output_type": "stream",
     "text": [
      "Training MetaPath2Vec feat by given metapaths_dict \n",
      "Metapath for training mp2vec models: ['paper', 'author', 'paper', 'subject', 'paper']\n"
     ]
    },
    {
     "name": "stderr",
     "output_type": "stream",
     "text": [
      "100%|██████████| 3025/3025 [00:02<00:00, 1511.60it/s]\n",
      "100%|██████████| 2/2 [00:01<00:00,  1.57it/s]\n"
     ]
    },
    {
     "name": "stdout",
     "output_type": "stream",
     "text": [
      "<class 'torch.Tensor'>\n",
      "tensor(indices=tensor([[   0,    0,    0,  ..., 3023, 3023, 3024],\n",
      "                       [   0,    8,   20,  ..., 2998, 3023, 3024]]),\n",
      "       values=tensor([0.0556, 0.0527, 0.0556,  ..., 0.5000, 0.5000, 1.0000]),\n",
      "       device='cuda:0', size=(3025, 3025), nnz=29436, layout=torch.sparse_coo)\n",
      "tensor([[0.0556, 0.0000, 0.0000,  ..., 0.0000, 0.0000, 0.0000],\n",
      "        [0.0000, 0.1111, 0.0000,  ..., 0.0000, 0.0000, 0.0000],\n",
      "        [0.0000, 0.0000, 0.1250,  ..., 0.0000, 0.0000, 0.0000],\n",
      "        ...,\n",
      "        [0.0000, 0.0000, 0.0000,  ..., 0.2500, 0.0000, 0.0000],\n",
      "        [0.0000, 0.0000, 0.0000,  ..., 0.0000, 0.5000, 0.0000],\n",
      "        [0.0000, 0.0000, 0.0000,  ..., 0.0000, 0.0000, 1.0000]],\n",
      "       device='cuda:0')\n",
      "有tmd两个mps\n"
     ]
    }
   ],
   "execution_count": 16
  },
  {
   "cell_type": "code",
   "id": "e8ce6772-de17-4f00-8340-972a117ed659",
   "metadata": {
    "ExecuteTime": {
     "end_time": "2024-06-18T12:26:47.856566Z",
     "start_time": "2024-06-18T12:26:47.842560Z"
    }
   },
   "source": "",
   "outputs": [],
   "execution_count": 9
  },
  {
   "cell_type": "code",
   "execution_count": null,
   "id": "92920ea3-70cb-48fe-9e88-aac0951028fb",
   "metadata": {},
   "outputs": [],
   "source": []
  },
  {
   "cell_type": "code",
   "execution_count": 205,
   "id": "c3e5364c-c917-4bef-b362-3cedfc71f017",
   "metadata": {},
   "outputs": [],
   "source": [
    "best_model_state_dict=model.state_dict()"
   ]
  },
  {
   "cell_type": "code",
   "execution_count": null,
   "id": "e5386cff-c4b7-48eb-bc2f-4aa5bc2c303d",
   "metadata": {},
   "outputs": [],
   "source": []
  },
  {
   "cell_type": "code",
   "execution_count": null,
   "id": "4db5a07b-2ad3-420f-8a20-ccbf79f99eb2",
   "metadata": {},
   "outputs": [],
   "source": []
  },
  {
   "cell_type": "code",
   "execution_count": null,
   "id": "16482093-5ea0-4582-890f-df02dd734ad4",
   "metadata": {},
   "outputs": [],
   "source": []
  },
  {
   "cell_type": "code",
   "execution_count": 206,
   "id": "6897fe47-3ed4-4b50-bfa7-f8d8398005b3",
   "metadata": {},
   "outputs": [
    {
     "data": {
      "text/plain": [
       "<All keys matched successfully>"
      ]
     },
     "execution_count": 206,
     "metadata": {},
     "output_type": "execute_result"
    }
   ],
   "source": [
    "model.load_state_dict(best_model_state_dict)"
   ]
  },
  {
   "cell_type": "code",
   "execution_count": 221,
   "id": "9dfedb03-c455-42ba-bdf8-1c3a7f7e034a",
   "metadata": {},
   "outputs": [
    {
     "data": {
      "text/plain": [
       "tensor([[ 0.0705,  0.2278,  0.1491,  ...,  0.0207,  0.2788, -0.0295],\n",
       "        [-0.0525,  0.1709, -0.0020,  ..., -0.0326,  0.1014,  0.0926],\n",
       "        [ 0.0284,  0.1303, -0.0377,  ...,  0.0231,  0.0842,  0.0510],\n",
       "        ...,\n",
       "        [-0.0186,  0.1019, -0.0405,  ..., -0.0203,  0.1192,  0.0159],\n",
       "        [ 0.0026,  0.1289, -0.0267,  ..., -0.0058,  0.1372,  0.0607],\n",
       "        [-0.0202,  0.2216, -0.0134,  ...,  0.0193,  0.2289,  0.0461]],\n",
       "       device='cuda:0')"
      ]
     },
     "execution_count": 221,
     "metadata": {},
     "output_type": "execute_result"
    }
   ],
   "source": [
    "model.eval()\n",
    "emb=model.get_embeds(hg.to('cuda'),h_dict)\n",
    "emb"
   ]
  },
  {
   "cell_type": "code",
   "execution_count": null,
   "id": "6fbb0e8d-f6ad-43f4-8c44-553b973427be",
   "metadata": {},
   "outputs": [],
   "source": []
  },
  {
   "cell_type": "code",
   "execution_count": null,
   "id": "0b439fc9-7ac2-4c01-860f-3c3e053c0a83",
   "metadata": {},
   "outputs": [],
   "source": []
  },
  {
   "cell_type": "code",
   "execution_count": 229,
   "id": "269399cc-a73d-4bd4-b1a1-aea543d7f59e",
   "metadata": {},
   "outputs": [
    {
     "data": {
      "text/plain": [
       "tensor([[-0.0104,  0.0649, -0.0720,  ...,  0.0616, -0.0050, -0.0069],\n",
       "        [ 0.0160,  0.0797, -0.0949,  ...,  0.1019, -0.0014,  0.0130],\n",
       "        [ 0.0152,  0.0669, -0.0475,  ...,  0.0758,  0.0071,  0.0163],\n",
       "        ...,\n",
       "        [ 0.0091,  0.0804, -0.0853,  ...,  0.0720, -0.0224, -0.0068],\n",
       "        [ 0.0127,  0.0761, -0.0731,  ...,  0.0650,  0.0160,  0.0139],\n",
       "        [-0.0556,  0.1392, -0.1587,  ...,  0.1254,  0.1180, -0.0390]],\n",
       "       device='cuda:0')"
      ]
     },
     "execution_count": 229,
     "metadata": {},
     "output_type": "execute_result"
    }
   ],
   "source": [
    "model.get_mp2vec_feat"
   ]
  },
  {
   "cell_type": "code",
   "execution_count": 238,
   "id": "8771a5e2-9e55-469a-8b03-2ba721f9ed6d",
   "metadata": {},
   "outputs": [],
   "source": [
    "setattr(args,'meta_paths_dict',metapaths_dict)"
   ]
  },
  {
   "cell_type": "code",
   "execution_count": null,
   "id": "1d37cbe2-91ae-44bb-8840-86839e72f976",
   "metadata": {},
   "outputs": [],
   "source": []
  },
  {
   "cell_type": "code",
   "id": "9f0157b1-dfc6-4e92-a0b8-e6fd4c2d40f1",
   "metadata": {
    "ExecuteTime": {
     "end_time": "2024-06-18T08:38:41.531944Z",
     "start_time": "2024-06-18T08:38:41.521431Z"
    }
   },
   "source": [],
   "outputs": [],
   "execution_count": null
  },
  {
   "metadata": {
    "ExecuteTime": {
     "end_time": "2024-06-18T08:38:41.546942Z",
     "start_time": "2024-06-18T08:38:41.533944Z"
    }
   },
   "cell_type": "code",
   "source": "",
   "id": "af9323005852df84",
   "outputs": [],
   "execution_count": null
  },
  {
   "metadata": {
    "ExecuteTime": {
     "end_time": "2024-06-18T08:38:41.561946Z",
     "start_time": "2024-06-18T08:38:41.547943Z"
    }
   },
   "cell_type": "code",
   "source": "",
   "id": "e0f397ca97b9c281",
   "outputs": [],
   "execution_count": null
  },
  {
   "metadata": {
    "ExecuteTime": {
     "end_time": "2024-06-18T10:24:13.806487Z",
     "start_time": "2024-06-18T10:24:13.731965Z"
    }
   },
   "cell_type": "code",
   "source": [
    "x=torch.rand(10030,2000)\n",
    "print(x)"
   ],
   "id": "a49013dd754ad58a",
   "outputs": [
    {
     "name": "stdout",
     "output_type": "stream",
     "text": [
      "tensor([[0.1853, 0.4965, 0.6377,  ..., 0.9592, 0.0431, 0.7280],\n",
      "        [0.3973, 0.7349, 0.5938,  ..., 0.7701, 0.1761, 0.0413],\n",
      "        [0.3568, 0.1576, 0.2826,  ..., 0.9391, 0.6474, 0.7089],\n",
      "        ...,\n",
      "        [0.1578, 0.9387, 0.2520,  ..., 0.0995, 0.5286, 0.3640],\n",
      "        [0.5275, 0.6333, 0.1917,  ..., 0.9978, 0.2696, 0.1147],\n",
      "        [0.5265, 0.3134, 0.8362,  ..., 0.8202, 0.5362, 0.8809]])\n"
     ]
    }
   ],
   "execution_count": 414
  },
  {
   "metadata": {
    "ExecuteTime": {
     "end_time": "2024-06-18T10:24:14.611870Z",
     "start_time": "2024-06-18T10:24:14.604871Z"
    }
   },
   "cell_type": "code",
   "source": [
    "def preprocess_features(features):\n",
    "    \"\"\"Row-normalize feature matrix and convert to tuple representation\"\"\"\n",
    "    rowsum = np.array(features.sum(1))\n",
    "    r_inv = np.power(rowsum, -1).flatten()\n",
    "    r_inv[np.isinf(r_inv)] = 0.\n",
    "    r_mat_inv = sp.diags(r_inv)\n",
    "    features = r_mat_inv.dot(features)\n",
    "    return torch.FloatTensor(features)\n",
    "\n",
    "def myPrepreposs(feat):\n",
    "    rowsum = torch.sum(feat, dim=1).reshape(-1, 1)\n",
    "    r_inv = torch.pow(rowsum, -1)\n",
    "    r_inv=torch.where(torch.isinf(r_inv), 0, r_inv)\n",
    "    feat=feat*r_inv\n",
    "    return feat\n",
    "    \n",
    "    "
   ],
   "id": "68c149e3bef0b354",
   "outputs": [],
   "execution_count": 415
  },
  {
   "metadata": {
    "ExecuteTime": {
     "end_time": "2024-06-18T10:24:15.445266Z",
     "start_time": "2024-06-18T10:24:15.407258Z"
    }
   },
   "cell_type": "code",
   "source": [
    "p2 = myPrepreposs(x)\n",
    "p1=preprocess_features(x)"
   ],
   "id": "902e4cb2892e0226",
   "outputs": [],
   "execution_count": 416
  },
  {
   "metadata": {
    "ExecuteTime": {
     "end_time": "2024-06-18T10:24:22.740398Z",
     "start_time": "2024-06-18T10:24:22.736397Z"
    }
   },
   "cell_type": "code",
   "source": "",
   "id": "4f34814f1ba6e9c9",
   "outputs": [],
   "execution_count": 418
  },
  {
   "metadata": {},
   "cell_type": "markdown",
   "source": "",
   "id": "329fe1bb1e7332c1"
  },
  {
   "metadata": {
    "ExecuteTime": {
     "end_time": "2024-06-18T11:47:36.210039Z",
     "start_time": "2024-06-18T11:47:36.191145Z"
    }
   },
   "cell_type": "code",
   "source": [
    "\n",
    "from scipy.sparse import spmatrix\n",
    "import torch\n",
    "from scipy import sparse as sp\n",
    "import numpy as np\n",
    "\n",
    "def normalize_adj(adj):\n",
    "    \"\"\"Symmetrically normalize adjacency matrix.\"\"\"\n",
    "    adj = sp.coo_matrix(adj)\n",
    "    rowsum = np.array(adj.sum(1))\n",
    "    d_inv_sqrt = np.power(rowsum, -0.5).flatten()\n",
    "    d_inv_sqrt[np.isinf(d_inv_sqrt)] = 0.\n",
    "    d_mat_inv_sqrt = sp.diags(d_inv_sqrt)\n",
    "    return adj.dot(d_mat_inv_sqrt).transpose().dot(d_mat_inv_sqrt).tocoo()\n",
    "\n",
    "def myNormalize(adj):\n",
    "    rowsum=torch.sum(adj, dim=1).reshape(-1, 1)\n",
    "    d_inv_sqrt=torch.pow(rowsum, -0.5)\n",
    "    d_inv_sqrt=torch.where(torch.isinf(d_inv_sqrt), 0, d_inv_sqrt)\n",
    "    return d_inv_sqrt.T*adj*d_inv_sqrt  "
   ],
   "id": "4d273297e234820b",
   "outputs": [],
   "execution_count": 17
  },
  {
   "metadata": {
    "ExecuteTime": {
     "end_time": "2024-06-18T11:47:36.621463Z",
     "start_time": "2024-06-18T11:47:36.502723Z"
    }
   },
   "cell_type": "code",
   "source": "mps=[dgl.metapath_reachable_graph(hg, mp).adjacency_matrix() for mp in acm.meta_paths_dict.values()]",
   "id": "2b342c5332b7a32f",
   "outputs": [],
   "execution_count": 18
  },
  {
   "metadata": {
    "ExecuteTime": {
     "end_time": "2024-06-18T11:57:03.848412Z",
     "start_time": "2024-06-18T11:57:03.737182Z"
    }
   },
   "cell_type": "code",
   "source": [
    "\n",
    "for mp in acm.meta_paths_dict.values(): \n",
    "    adj=dgl.metapath_reachable_graph(hg, mp).adjacency_matrix()\n",
    "    adj=myNormalize(adj.to_dense()).to_sparse()"
   ],
   "id": "451698d691c62d7b",
   "outputs": [],
   "execution_count": 44
  },
  {
   "metadata": {
    "ExecuteTime": {
     "end_time": "2024-06-18T11:57:28.700798Z",
     "start_time": "2024-06-18T11:57:28.670800Z"
    }
   },
   "cell_type": "code",
   "source": "adj.todense()",
   "id": "b55c6e629460baa0",
   "outputs": [
    {
     "ename": "AttributeError",
     "evalue": "'Tensor' object has no attribute 'todense'",
     "output_type": "error",
     "traceback": [
      "\u001B[1;31m---------------------------------------------------------------------------\u001B[0m",
      "\u001B[1;31mAttributeError\u001B[0m                            Traceback (most recent call last)",
      "Cell \u001B[1;32mIn[49], line 1\u001B[0m\n\u001B[1;32m----> 1\u001B[0m \u001B[43madj\u001B[49m\u001B[38;5;241;43m.\u001B[39;49m\u001B[43mtodense\u001B[49m()\n",
      "\u001B[1;31mAttributeError\u001B[0m: 'Tensor' object has no attribute 'todense'"
     ]
    }
   ],
   "execution_count": 49
  },
  {
   "metadata": {
    "ExecuteTime": {
     "end_time": "2024-06-18T11:57:10.320295Z",
     "start_time": "2024-06-18T11:57:10.312293Z"
    }
   },
   "cell_type": "code",
   "source": [
    "import dgl.sparse.sparse_matrix as sp\n",
    "dgl.sparse.sparse_matrix.SparseMatrix"
   ],
   "id": "8f7121fbf6e26747",
   "outputs": [
    {
     "data": {
      "text/plain": [
       "dgl.sparse.sparse_matrix.SparseMatrix"
      ]
     },
     "execution_count": 46,
     "metadata": {},
     "output_type": "execute_result"
    }
   ],
   "execution_count": 46
  },
  {
   "metadata": {
    "ExecuteTime": {
     "end_time": "2024-06-18T11:57:11.032633Z",
     "start_time": "2024-06-18T11:57:10.998625Z"
    }
   },
   "cell_type": "code",
   "source": "sp.from_torch_sparse(adj.to_dense().to_sparse())",
   "id": "9c1e8423cbad925d",
   "outputs": [
    {
     "data": {
      "text/plain": [
       "SparseMatrix(indices=tensor([[   0,    0,    0,  ..., 3024, 3024, 3024],\n",
       "                             [   0,   75,  586,  ..., 3021, 3023, 3024]]),\n",
       "             values=tensor([0.2000, 0.2000, 0.2000,  ..., 0.0008, 0.0008, 0.0008]),\n",
       "             shape=(3025, 3025), nnz=2200581)"
      ]
     },
     "execution_count": 47,
     "metadata": {},
     "output_type": "execute_result"
    }
   ],
   "execution_count": 47
  },
  {
   "metadata": {
    "ExecuteTime": {
     "end_time": "2024-06-18T11:56:06.225234Z",
     "start_time": "2024-06-18T11:56:06.194389Z"
    }
   },
   "cell_type": "code",
   "source": "",
   "id": "293bb0868012c166",
   "outputs": [
    {
     "data": {
      "text/plain": [
       "tensor(indices=tensor([[   0,    0,    0,  ..., 3024, 3024, 3024],\n",
       "                       [   0,   75,  586,  ..., 3021, 3023, 3024]]),\n",
       "       values=tensor([1., 1., 1.,  ..., 1., 1., 1.]),\n",
       "       size=(3025, 3025), nnz=2200581, layout=torch.sparse_coo)"
      ]
     },
     "execution_count": 40,
     "metadata": {},
     "output_type": "execute_result"
    }
   ],
   "execution_count": 40
  },
  {
   "metadata": {
    "ExecuteTime": {
     "end_time": "2024-06-18T09:23:31.871219Z",
     "start_time": "2024-06-18T09:23:31.866224Z"
    }
   },
   "cell_type": "code",
   "source": "",
   "id": "f030416026aaaeeb",
   "outputs": [],
   "execution_count": 145
  },
  {
   "metadata": {
    "ExecuteTime": {
     "end_time": "2024-06-18T12:12:07.852318Z",
     "start_time": "2024-06-18T12:12:07.845260Z"
    }
   },
   "cell_type": "code",
   "source": "",
   "id": "ead61b3c2d676166",
   "outputs": [],
   "execution_count": 53
  },
  {
   "metadata": {
    "ExecuteTime": {
     "end_time": "2024-06-18T10:21:07.682891Z",
     "start_time": "2024-06-18T10:21:07.669895Z"
    }
   },
   "cell_type": "code",
   "source": "",
   "id": "8dd130a21ffd77ad",
   "outputs": [],
   "execution_count": 391
  },
  {
   "metadata": {
    "ExecuteTime": {
     "end_time": "2024-06-18T10:21:08.091016Z",
     "start_time": "2024-06-18T10:21:08.078014Z"
    }
   },
   "cell_type": "code",
   "source": "",
   "id": "7d38acdde4acfb25",
   "outputs": [],
   "execution_count": 391
  },
  {
   "metadata": {
    "ExecuteTime": {
     "end_time": "2024-06-18T10:42:48.664511Z",
     "start_time": "2024-06-18T10:42:47.867232Z"
    }
   },
   "cell_type": "code",
   "source": [
    "a=torch.randint(0,2,(5000,5000)).float()\n",
    "asp=sp.csr_matrix(a)\n"
   ],
   "id": "77c64bcdb2d3c8cb",
   "outputs": [],
   "execution_count": 473
  },
  {
   "metadata": {
    "ExecuteTime": {
     "end_time": "2024-06-18T10:43:03.577110Z",
     "start_time": "2024-06-18T10:43:03.568602Z"
    }
   },
   "cell_type": "code",
   "source": "",
   "id": "6bf2c9e8ab87ad0e",
   "outputs": [],
   "execution_count": 480
  },
  {
   "metadata": {
    "ExecuteTime": {
     "end_time": "2024-06-18T10:42:49.207752Z",
     "start_time": "2024-06-18T10:42:49.197536Z"
    }
   },
   "cell_type": "code",
   "source": "",
   "id": "9bb693a036fb12ba",
   "outputs": [],
   "execution_count": 473
  },
  {
   "metadata": {},
   "cell_type": "markdown",
   "source": "",
   "id": "906b21be3f221ce1"
  },
  {
   "metadata": {
    "ExecuteTime": {
     "end_time": "2024-06-18T10:42:49.888910Z",
     "start_time": "2024-06-18T10:42:49.582776Z"
    }
   },
   "cell_type": "code",
   "source": "asp_norm=normalize_adj(asp)",
   "id": "f0a85979a9d593ef",
   "outputs": [],
   "execution_count": 474
  },
  {
   "metadata": {
    "ExecuteTime": {
     "end_time": "2024-06-18T10:42:50.116721Z",
     "start_time": "2024-06-18T10:42:49.982709Z"
    }
   },
   "cell_type": "code",
   "source": "norm1=torch.tensor(asp_norm.todense())",
   "id": "fb57e851a2ed3a63",
   "outputs": [],
   "execution_count": 475
  },
  {
   "metadata": {
    "ExecuteTime": {
     "end_time": "2024-06-18T10:42:50.891888Z",
     "start_time": "2024-06-18T10:42:50.852366Z"
    }
   },
   "cell_type": "code",
   "source": "norm2=myNormalize(a)",
   "id": "1de40571685f4a6b",
   "outputs": [],
   "execution_count": 476
  },
  {
   "metadata": {
    "ExecuteTime": {
     "end_time": "2024-06-18T10:42:51.850410Z",
     "start_time": "2024-06-18T10:42:51.671639Z"
    }
   },
   "cell_type": "code",
   "source": [
    "# torch.equal(norm1,norm2.T)\n",
    "torch.allclose(norm1,norm2.T)"
   ],
   "id": "d66a788014981d19",
   "outputs": [
    {
     "data": {
      "text/plain": [
       "True"
      ]
     },
     "execution_count": 477,
     "metadata": {},
     "output_type": "execute_result"
    }
   ],
   "execution_count": 477
  },
  {
   "metadata": {
    "ExecuteTime": {
     "end_time": "2024-06-18T10:42:52.592289Z",
     "start_time": "2024-06-18T10:42:52.579288Z"
    }
   },
   "cell_type": "code",
   "source": "norm1",
   "id": "51e63a10019afbeb",
   "outputs": [
    {
     "data": {
      "text/plain": [
       "tensor([[0.0000, 0.0004, 0.0000,  ..., 0.0000, 0.0004, 0.0000],\n",
       "        [0.0000, 0.0004, 0.0000,  ..., 0.0004, 0.0004, 0.0004],\n",
       "        [0.0000, 0.0000, 0.0004,  ..., 0.0000, 0.0000, 0.0000],\n",
       "        ...,\n",
       "        [0.0000, 0.0004, 0.0004,  ..., 0.0004, 0.0000, 0.0000],\n",
       "        [0.0004, 0.0004, 0.0004,  ..., 0.0004, 0.0000, 0.0000],\n",
       "        [0.0000, 0.0000, 0.0004,  ..., 0.0004, 0.0004, 0.0000]])"
      ]
     },
     "execution_count": 478,
     "metadata": {},
     "output_type": "execute_result"
    }
   ],
   "execution_count": 478
  },
  {
   "metadata": {
    "ExecuteTime": {
     "end_time": "2024-06-18T10:42:52.924259Z",
     "start_time": "2024-06-18T10:42:52.909351Z"
    }
   },
   "cell_type": "code",
   "source": "norm2.T\n",
   "id": "e863298d352403f2",
   "outputs": [
    {
     "data": {
      "text/plain": [
       "tensor([[0.0000, 0.0004, 0.0000,  ..., 0.0000, 0.0004, 0.0000],\n",
       "        [0.0000, 0.0004, 0.0000,  ..., 0.0004, 0.0004, 0.0004],\n",
       "        [0.0000, 0.0000, 0.0004,  ..., 0.0000, 0.0000, 0.0000],\n",
       "        ...,\n",
       "        [0.0000, 0.0004, 0.0004,  ..., 0.0004, 0.0000, 0.0000],\n",
       "        [0.0004, 0.0004, 0.0004,  ..., 0.0004, 0.0000, 0.0000],\n",
       "        [0.0000, 0.0000, 0.0004,  ..., 0.0004, 0.0004, 0.0000]])"
      ]
     },
     "execution_count": 479,
     "metadata": {},
     "output_type": "execute_result"
    }
   ],
   "execution_count": 479
  },
  {
   "metadata": {
    "ExecuteTime": {
     "end_time": "2024-06-18T10:41:20.879602Z",
     "start_time": "2024-06-18T10:41:20.865601Z"
    }
   },
   "cell_type": "code",
   "source": "",
   "id": "18e69f744b9ebdbd",
   "outputs": [],
   "execution_count": 451
  },
  {
   "metadata": {},
   "cell_type": "code",
   "outputs": [],
   "execution_count": null,
   "source": "",
   "id": "aad79d0dee383178"
  }
 ],
 "metadata": {
  "kernelspec": {
   "display_name": "GML",
   "language": "python",
   "name": "gml"
  },
  "language_info": {
   "codemirror_mode": {
    "name": "ipython",
    "version": 3
   },
   "file_extension": ".py",
   "mimetype": "text/x-python",
   "name": "python",
   "nbconvert_exporter": "python",
   "pygments_lexer": "ipython3",
   "version": "3.9.19"
  },
  "widgets": {
   "application/vnd.jupyter.widget-state+json": {
    "state": {},
    "version_major": 2,
    "version_minor": 0
   }
  }
 },
 "nbformat": 4,
 "nbformat_minor": 5
}
