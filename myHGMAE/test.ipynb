{
 "cells": [
  {
   "cell_type": "code",
   "execution_count": 1,
   "id": "02b84856-33ce-4fe3-a9d2-d0bf8d973f05",
   "metadata": {},
   "outputs": [],
   "source": [
    "import argparse\n",
    "import logging\n",
    "\n",
    "import yaml\n",
    "\n",
    "parser = argparse.ArgumentParser(description=\"GAT\")\n",
    "parser.add_argument(\n",
    "    \"--task\",\n",
    "    type=str,\n",
    "    default=\"classification\",\n",
    "    choices=[\"classification\", \"clustering\"],\n",
    ")\n",
    "parser.add_argument(\"--dataset\", type=str, default=\"acm\")\n",
    "args, _ = parser.parse_known_args()\n",
    "\n",
    "\n",
    "def load_best_configs(args, path):\n",
    "    with open(path, \"r\") as f:\n",
    "        configs = yaml.load(f, yaml.FullLoader)\n",
    "\n",
    "    if args.dataset not in configs:\n",
    "        logging.info(\"Best args not found\")\n",
    "        return args\n",
    "\n",
    "    configs = configs[args.dataset]\n",
    "\n",
    "    for k, v in configs.items():\n",
    "        if \"lr\" in k or \"weight_decay\" in k:\n",
    "            v = float(v)\n",
    "        setattr(args, k, v)\n",
    "    print(\"------ Use best configs ------\")\n",
    "    return args"
   ]
  },
  {
   "cell_type": "code",
   "execution_count": 80,
   "id": "eab884e5-44cf-499d-943a-d6bd2ec8bc7b",
   "metadata": {},
   "outputs": [
    {
     "name": "stdout",
     "output_type": "stream",
     "text": [
      "------ Use best configs ------\n"
     ]
    },
    {
     "data": {
      "text/plain": [
       "{'task': 'classification',\n",
       " 'dataset': 'acm',\n",
       " 'category': 'paper',\n",
       " 'activation': 'prelu',\n",
       " 'alpha_l': 1,\n",
       " 'attn_drop': 0.5,\n",
       " 'decoder': 'han',\n",
       " 'encoder': 'han',\n",
       " 'eva_lr': 0.01,\n",
       " 'eva_wd': 0.0005,\n",
       " 'feat_drop': 0.2,\n",
       " 'feat_mask_rate': '0.5,0.005,0.8',\n",
       " 'gpu': 0,\n",
       " 'in_dim': 1902,\n",
       " 'hidden_dim': 256,\n",
       " 'l2_coef': 0,\n",
       " 'leave_unchanged': 0.3,\n",
       " 'loss_func': 'sce',\n",
       " 'lr': 0.0008,\n",
       " 'mae_epochs': 3,\n",
       " 'mask_rate': 0.4,\n",
       " 'mp2vec_feat_alpha_l': 2,\n",
       " 'mp2vec_feat_drop': 0.2,\n",
       " 'mp2vec_feat_pred_loss_weight': 0.1,\n",
       " 'mp_edge_alpha_l': 3,\n",
       " 'mp_edge_mask_rate': 0.7,\n",
       " 'mp_edge_recon_loss_weight': 1,\n",
       " 'mps_batch_size': 256,\n",
       " 'mps_context_size': 3,\n",
       " 'mps_embedding_dim': 64,\n",
       " 'mps_epoch': 1,\n",
       " 'mps_lr': 0.001,\n",
       " 'mps_num_negative_samples': 3,\n",
       " 'mps_walk_length': 10,\n",
       " 'mps_walks_per_node': 3,\n",
       " 'n_labels': 3,\n",
       " 'negative_slope': 0.2,\n",
       " 'nei_num': 2,\n",
       " 'norm': 'batchnorm',\n",
       " 'num_heads': 4,\n",
       " 'num_layers': 2,\n",
       " 'num_out_heads': 1,\n",
       " 'optimizer': 'adam',\n",
       " 'patience': 10,\n",
       " 'replace_rate': 0.2,\n",
       " 'residual': False,\n",
       " 'scheduler': True,\n",
       " 'scheduler_gamma': 0.999,\n",
       " 'use_mp2vec_feat_pred': True,\n",
       " 'use_mp_edge_recon': True}"
      ]
     },
     "execution_count": 80,
     "metadata": {},
     "output_type": "execute_result"
    }
   ],
   "source": [
    "parser = argparse.ArgumentParser(description=\"GAT\")\n",
    "parser.add_argument(\n",
    "    \"--task\",\n",
    "    type=str,\n",
    "    default=\"classification\",\n",
    "    choices=[\"classification\", \"clustering\"],\n",
    ")\n",
    "parser.add_argument(\"--dataset\", type=str, default=\"acm\")\n",
    "args, _ = parser.parse_known_args()\n",
    "\n",
    "args = load_best_configs(args, \"./configs.yml\")\n",
    "args.__dict__"
   ]
  },
  {
   "cell_type": "code",
   "execution_count": null,
   "id": "da8a0379-aab4-445f-9ac2-e47e31536ac8",
   "metadata": {},
   "outputs": [],
   "source": []
  },
  {
   "cell_type": "code",
   "execution_count": null,
   "id": "15d81994-0ad0-40dc-82f1-74187bbba4dd",
   "metadata": {},
   "outputs": [],
   "source": []
  },
  {
   "cell_type": "code",
   "execution_count": 3,
   "id": "55519b0b-d2f4-4117-be63-9c59f9f46d7f",
   "metadata": {},
   "outputs": [
    {
     "name": "stderr",
     "output_type": "stream",
     "text": [
      "E:\\Anacodna3\\envs\\GML\\lib\\site-packages\\tqdm\\auto.py:21: TqdmWarning: IProgress not found. Please update jupyter and ipywidgets. See https://ipywidgets.readthedocs.io/en/stable/user_install.html\n",
      "  from .autonotebook import tqdm as notebook_tqdm\n"
     ]
    }
   ],
   "source": [
    "from openhgnn.dataset.NodeClassificationDataset import OHGB_NodeClassification"
   ]
  },
  {
   "cell_type": "code",
   "execution_count": 4,
   "id": "737e1d66-879c-4f39-ac21-e91f244c9e5a",
   "metadata": {},
   "outputs": [
    {
     "name": "stdout",
     "output_type": "stream",
     "text": [
      "Extracting file to ./openhgnn/dataset\\ohgbn-acm\n",
      "Done saving data into cached files.\n"
     ]
    }
   ],
   "source": [
    "acm = OHGB_NodeClassification(\"ohgbn-acm\", raw_dir=\"./dataset\", logger=\"\")"
   ]
  },
  {
   "cell_type": "code",
   "execution_count": 5,
   "id": "0e378720-890b-4ed7-a218-0428e760651f",
   "metadata": {},
   "outputs": [],
   "source": [
    "hg = acm.g\n",
    "metapaths_dict = acm.meta_paths_dict"
   ]
  },
  {
   "cell_type": "code",
   "execution_count": null,
   "id": "363b5821-f85a-4b2e-800c-8b9c1263b93e",
   "metadata": {},
   "outputs": [],
   "source": []
  },
  {
   "cell_type": "code",
   "execution_count": null,
   "id": "b360ca3b-b1c0-4d50-8672-660b6b82d871",
   "metadata": {},
   "outputs": [],
   "source": []
  },
  {
   "cell_type": "code",
   "execution_count": null,
   "id": "9a5e7e5f-ff6d-4e35-a5a7-fcca7760ec49",
   "metadata": {},
   "outputs": [],
   "source": []
  },
  {
   "cell_type": "code",
   "execution_count": 183,
   "id": "ea669594-d95c-4c40-b048-995208502b55",
   "metadata": {},
   "outputs": [
    {
     "data": {
      "text/plain": [
       "\u001b[1;31mInit signature:\u001b[0m\n",
       "\u001b[0mHGMAE\u001b[0m\u001b[1;33m(\u001b[0m\u001b[1;33m\n",
       "\u001b[0m    \u001b[0mmetapaths_dict\u001b[0m\u001b[1;33m,\u001b[0m\u001b[1;33m\n",
       "\u001b[0m    \u001b[0mcategory\u001b[0m\u001b[1;33m,\u001b[0m\u001b[1;33m\n",
       "\u001b[0m    \u001b[0min_dim\u001b[0m\u001b[1;33m,\u001b[0m\u001b[1;33m\n",
       "\u001b[0m    \u001b[0mhidden_dim\u001b[0m\u001b[1;33m,\u001b[0m\u001b[1;33m\n",
       "\u001b[0m    \u001b[0mnum_layers\u001b[0m\u001b[1;33m,\u001b[0m\u001b[1;33m\n",
       "\u001b[0m    \u001b[0mnum_heads\u001b[0m\u001b[1;33m,\u001b[0m\u001b[1;33m\n",
       "\u001b[0m    \u001b[0mnum_out_heads\u001b[0m\u001b[1;33m,\u001b[0m\u001b[1;33m\n",
       "\u001b[0m    \u001b[0mfeat_drop\u001b[0m\u001b[1;33m,\u001b[0m\u001b[1;33m\n",
       "\u001b[0m    \u001b[0mattn_drop\u001b[0m\u001b[1;33m,\u001b[0m\u001b[1;33m\n",
       "\u001b[0m    \u001b[0mnegative_slope\u001b[0m\u001b[1;33m=\u001b[0m\u001b[1;36m0.2\u001b[0m\u001b[1;33m,\u001b[0m\u001b[1;33m\n",
       "\u001b[0m    \u001b[0mresidual\u001b[0m\u001b[1;33m=\u001b[0m\u001b[1;32mFalse\u001b[0m\u001b[1;33m,\u001b[0m\u001b[1;33m\n",
       "\u001b[0m    \u001b[0mactivation\u001b[0m\u001b[1;33m=\u001b[0m\u001b[1;34m'prelu'\u001b[0m\u001b[1;33m,\u001b[0m\u001b[1;33m\n",
       "\u001b[0m    \u001b[0mnorm\u001b[0m\u001b[1;33m=\u001b[0m\u001b[1;32mNone\u001b[0m\u001b[1;33m,\u001b[0m\u001b[1;33m\n",
       "\u001b[0m    \u001b[0mconcat_out\u001b[0m\u001b[1;33m=\u001b[0m\u001b[1;32mTrue\u001b[0m\u001b[1;33m,\u001b[0m\u001b[1;33m\n",
       "\u001b[0m    \u001b[0mloss_func\u001b[0m\u001b[1;33m=\u001b[0m\u001b[1;34m'sce'\u001b[0m\u001b[1;33m,\u001b[0m\u001b[1;33m\n",
       "\u001b[0m    \u001b[0muse_mp_edge_recon\u001b[0m\u001b[1;33m=\u001b[0m\u001b[1;32mTrue\u001b[0m\u001b[1;33m,\u001b[0m\u001b[1;33m\n",
       "\u001b[0m    \u001b[0mmp_edge_recon_loss_weight\u001b[0m\u001b[1;33m=\u001b[0m\u001b[1;36m1\u001b[0m\u001b[1;33m,\u001b[0m\u001b[1;33m\n",
       "\u001b[0m    \u001b[0mmp_edge_mask_rate\u001b[0m\u001b[1;33m=\u001b[0m\u001b[1;36m0.7\u001b[0m\u001b[1;33m,\u001b[0m\u001b[1;33m\n",
       "\u001b[0m    \u001b[0mmp_edge_alpha_l\u001b[0m\u001b[1;33m=\u001b[0m\u001b[1;36m3\u001b[0m\u001b[1;33m,\u001b[0m\u001b[1;33m\n",
       "\u001b[0m\u001b[1;33m)\u001b[0m\u001b[1;33m\u001b[0m\u001b[1;33m\u001b[0m\u001b[0m\n",
       "\u001b[1;31mDocstring:\u001b[0m     \n",
       "Parameter\n",
       "----------\n",
       "metapaths_dict: dict[str, list[etype]]\n",
       "    Dict from meta path name to meta path\n",
       "category : string\n",
       "    The category of the nodes to be classificated\n",
       "in_dim:\n",
       "hidden_dim: dim of encoded embedding\n",
       "num_layers: int\n",
       "    Number of layers of HAN encoder and decoder\n",
       "num_heads: int\n",
       "    Number of attention heads of hidden layers in HAN encoder and decoder\n",
       "num_out_heads: int\n",
       "    Number of attention heads of output projection in HAN encoder and decoder\n",
       "activation: str or None\n",
       "    Activation function, str in {'relu','gelu','prelu','elu'} or None, default: ``'prelu'``\n",
       "norm:\n",
       "\n",
       "feat_drop:\n",
       "attn_drop:\n",
       "negative_slope:\n",
       "residual:\n",
       "concat_out:\n",
       "encoding:\n",
       "\u001b[1;31mInit docstring:\u001b[0m Initializes internal Module state, shared by both nn.Module and ScriptModule.\n",
       "\u001b[1;31mFile:\u001b[0m           e:\\program\\gamma lab\\hgmae-implementation\\myhgmae\\hgmae.py\n",
       "\u001b[1;31mType:\u001b[0m           ABCMeta\n",
       "\u001b[1;31mSubclasses:\u001b[0m     "
      ]
     },
     "metadata": {},
     "output_type": "display_data"
    }
   ],
   "source": [
    "import importlib\n",
    "\n",
    "import dgl\n",
    "import hgmae\n",
    "import torch\n",
    "\n",
    "importlib.reload(hgmae)\n",
    "from hgmae import HGMAE\n",
    "HGMAE?"
   ]
  },
  {
   "cell_type": "code",
   "execution_count": 179,
   "id": "93a4a6f1-4be2-4ef2-93cb-db8fa07808d4",
   "metadata": {},
   "outputs": [],
   "source": [
    "h_dict=hg.ndata['h']"
   ]
  },
  {
   "cell_type": "code",
   "execution_count": 180,
   "id": "67b6fd61-67c7-4f74-ad01-e01608cbbed8",
   "metadata": {},
   "outputs": [],
   "source": [
    "model = HGMAE.build_model_from_args(args, metapaths_dict)\n",
    "\n"
   ]
  },
  {
   "cell_type": "code",
   "execution_count": 181,
   "id": "2815f08e-6155-4e21-a3e7-e0843f1bb3d4",
   "metadata": {},
   "outputs": [
    {
     "data": {
      "text/plain": [
       "tensor(0.1739, grad_fn=<MulBackward0>)"
      ]
     },
     "execution_count": 181,
     "metadata": {},
     "output_type": "execute_result"
    }
   ],
   "source": [
    "model.forward(hg,h_dict,3)"
   ]
  },
  {
   "cell_type": "code",
   "execution_count": null,
   "id": "2dbd5ca1-0da7-4db1-b080-584149ddd1d3",
   "metadata": {},
   "outputs": [],
   "source": []
  },
  {
   "cell_type": "code",
   "execution_count": 58,
   "id": "a0fc8ee6-5f23-49e1-9c8f-c7c341634836",
   "metadata": {},
   "outputs": [],
   "source": [
    "mps=[dgl.metapath_reachable_graph(hg,mp).adjacency_matrix() for mp in metapaths_dict.values()]"
   ]
  },
  {
   "cell_type": "code",
   "execution_count": 59,
   "id": "0f125b35-af55-4d78-8ba6-5db55b66e856",
   "metadata": {},
   "outputs": [],
   "source": [
    "gs = []\n",
    "for mp in mps:\n",
    "    indices = mp.indices()\n",
    "    cur_graph = dgl.graph((indices[0], indices[1]))\n",
    "    gs.append(cur_graph)\n"
   ]
  },
  {
   "cell_type": "code",
   "execution_count": null,
   "id": "74588177-7fbb-41d3-83f5-d2d9f48c4516",
   "metadata": {},
   "outputs": [],
   "source": []
  },
  {
   "cell_type": "code",
   "execution_count": 224,
   "id": "1f82ee16-a639-42f9-b06a-4191c0e7ce8d",
   "metadata": {},
   "outputs": [
    {
     "data": {
      "text/plain": [
       "tensor([ 0,  1,  2,  3,  4,  5,  6,  7,  8,  9, 10, 11, 12, 13, 14])"
      ]
     },
     "execution_count": 224,
     "metadata": {},
     "output_type": "execute_result"
    }
   ],
   "source": [
    "l=torch.arange(15)\n",
    "\n",
    "a=4\n",
    "b=5\n",
    "c=6\n",
    "l"
   ]
  },
  {
   "cell_type": "code",
   "execution_count": 229,
   "id": "aeb4e8e8-7c68-40d8-857c-592449551cce",
   "metadata": {},
   "outputs": [
    {
     "data": {
      "text/plain": [
       "tensor([0, 1, 2, 3])"
      ]
     },
     "execution_count": 229,
     "metadata": {},
     "output_type": "execute_result"
    }
   ],
   "source": [
    "l[:a]"
   ]
  },
  {
   "cell_type": "code",
   "execution_count": 234,
   "id": "cacdb26d-c403-4c71-a8a3-d4e5a3aac24d",
   "metadata": {},
   "outputs": [
    {
     "data": {
      "text/plain": [
       "tensor([4, 5, 6, 7, 8])"
      ]
     },
     "execution_count": 234,
     "metadata": {},
     "output_type": "execute_result"
    }
   ],
   "source": [
    "l[a:a+b]"
   ]
  },
  {
   "cell_type": "code",
   "execution_count": 235,
   "id": "b460a6b3-5f0e-4aa9-98b8-919bc39ac5de",
   "metadata": {},
   "outputs": [
    {
     "data": {
      "text/plain": [
       "tensor([ 9, 10, 11, 12, 13, 14])"
      ]
     },
     "execution_count": 235,
     "metadata": {},
     "output_type": "execute_result"
    }
   ],
   "source": [
    "l[a+b:]"
   ]
  },
  {
   "cell_type": "code",
   "execution_count": null,
   "id": "e0c96018-9064-4706-9f6a-a1df8f74e9c6",
   "metadata": {},
   "outputs": [],
   "source": []
  },
  {
   "cell_type": "code",
   "execution_count": null,
   "id": "b40a1c03-e28d-426f-9480-9241ada3a007",
   "metadata": {},
   "outputs": [],
   "source": []
  },
  {
   "cell_type": "code",
   "execution_count": null,
   "id": "9cc96ab1-765a-4e45-8735-be9296cd8216",
   "metadata": {},
   "outputs": [],
   "source": []
  },
  {
   "cell_type": "code",
   "execution_count": null,
   "id": "f178b2d6-8552-488d-aa28-42c166e4dca8",
   "metadata": {},
   "outputs": [],
   "source": []
  }
 ],
 "metadata": {
  "kernelspec": {
   "display_name": "GML",
   "language": "python",
   "name": "gml"
  },
  "language_info": {
   "codemirror_mode": {
    "name": "ipython",
    "version": 3
   },
   "file_extension": ".py",
   "mimetype": "text/x-python",
   "name": "python",
   "nbconvert_exporter": "python",
   "pygments_lexer": "ipython3",
   "version": "3.9.19"
  },
  "widgets": {
   "application/vnd.jupyter.widget-state+json": {
    "state": {},
    "version_major": 2,
    "version_minor": 0
   }
  }
 },
 "nbformat": 4,
 "nbformat_minor": 5
}
