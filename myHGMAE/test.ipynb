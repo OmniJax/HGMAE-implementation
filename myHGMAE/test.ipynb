{
 "cells": [
  {
   "cell_type": "code",
   "execution_count": 1,
   "id": "02b84856-33ce-4fe3-a9d2-d0bf8d973f05",
   "metadata": {},
   "outputs": [],
   "source": [
    "import argparse\n",
    "import logging\n",
    "\n",
    "import yaml\n",
    "\n",
    "parser = argparse.ArgumentParser(description=\"GAT\")\n",
    "parser.add_argument(\n",
    "    \"--task\",\n",
    "    type=str,\n",
    "    default=\"classification\",\n",
    "    choices=[\"classification\", \"clustering\"],\n",
    ")\n",
    "parser.add_argument(\"--dataset\", type=str, default=\"acm\")\n",
    "args, _ = parser.parse_known_args()\n",
    "\n",
    "\n",
    "def load_best_configs(args, path):\n",
    "    with open(path, \"r\") as f:\n",
    "        configs = yaml.load(f, yaml.FullLoader)\n",
    "\n",
    "    if args.dataset not in configs:\n",
    "        logging.info(\"Best args not found\")\n",
    "        return args\n",
    "\n",
    "    configs = configs[args.dataset]\n",
    "\n",
    "    for k, v in configs.items():\n",
    "        if \"lr\" in k or \"weight_decay\" in k:\n",
    "            v = float(v)\n",
    "        setattr(args, k, v)\n",
    "    print(\"------ Use best configs ------\")\n",
    "    return args"
   ]
  },
  {
   "cell_type": "code",
   "execution_count": 13,
   "id": "eab884e5-44cf-499d-943a-d6bd2ec8bc7b",
   "metadata": {},
   "outputs": [
    {
     "name": "stdout",
     "output_type": "stream",
     "text": [
      "------ Use best configs ------\n"
     ]
    }
   ],
   "source": [
    "parser = argparse.ArgumentParser(description=\"GAT\")\n",
    "parser.add_argument(\n",
    "    \"--task\",\n",
    "    type=str,\n",
    "    default=\"classification\",\n",
    "    choices=[\"classification\", \"clustering\"],\n",
    ")\n",
    "parser.add_argument(\"--dataset\", type=str, default=\"acm\")\n",
    "args, _ = parser.parse_known_args()\n",
    "\n",
    "args = load_best_configs(args, \"./configs.yml\")"
   ]
  },
  {
   "cell_type": "code",
   "execution_count": 15,
   "id": "da8a0379-aab4-445f-9ac2-e47e31536ac8",
   "metadata": {},
   "outputs": [
    {
     "data": {
      "text/plain": [
       "{'PAP': [('paper', 'paper-author', 'author'),\n",
       "  ('author', 'author-paper', 'paper')],\n",
       " 'PSP': [('paper', 'paper-subject', 'subject'),\n",
       "  ('subject', 'subject-paper', 'paper')]}"
      ]
     },
     "execution_count": 15,
     "metadata": {},
     "output_type": "execute_result"
    }
   ],
   "source": [
    "acm.meta_paths_dict"
   ]
  },
  {
   "cell_type": "code",
   "execution_count": null,
   "id": "15d81994-0ad0-40dc-82f1-74187bbba4dd",
   "metadata": {},
   "outputs": [],
   "source": []
  },
  {
   "cell_type": "code",
   "execution_count": 3,
   "id": "55519b0b-d2f4-4117-be63-9c59f9f46d7f",
   "metadata": {},
   "outputs": [
    {
     "name": "stderr",
     "output_type": "stream",
     "text": [
      "E:\\Anacodna3\\envs\\GML\\lib\\site-packages\\tqdm\\auto.py:21: TqdmWarning: IProgress not found. Please update jupyter and ipywidgets. See https://ipywidgets.readthedocs.io/en/stable/user_install.html\n",
      "  from .autonotebook import tqdm as notebook_tqdm\n"
     ]
    }
   ],
   "source": [
    "from openhgnn.dataset.NodeClassificationDataset import OHGB_NodeClassification"
   ]
  },
  {
   "cell_type": "code",
   "execution_count": 6,
   "id": "737e1d66-879c-4f39-ac21-e91f244c9e5a",
   "metadata": {},
   "outputs": [
    {
     "name": "stdout",
     "output_type": "stream",
     "text": [
      "Extracting file to ./openhgnn/dataset\\ohgbn-acm\n",
      "Done saving data into cached files.\n"
     ]
    }
   ],
   "source": [
    "acm = OHGB_NodeClassification(\"ohgbn-acm\", raw_dir=\"./dataset\", logger=None)"
   ]
  },
  {
   "cell_type": "code",
   "execution_count": 7,
   "id": "0e378720-890b-4ed7-a218-0428e760651f",
   "metadata": {},
   "outputs": [],
   "source": [
    "hg = acm.g\n",
    "metapaths_dict = acm.meta_paths_dict"
   ]
  },
  {
   "cell_type": "code",
   "execution_count": null,
   "id": "363b5821-f85a-4b2e-800c-8b9c1263b93e",
   "metadata": {},
   "outputs": [],
   "source": []
  },
  {
   "cell_type": "code",
   "execution_count": null,
   "id": "b360ca3b-b1c0-4d50-8672-660b6b82d871",
   "metadata": {},
   "outputs": [],
   "source": []
  },
  {
   "cell_type": "code",
   "execution_count": 8,
   "id": "9a5e7e5f-ff6d-4e35-a5a7-fcca7760ec49",
   "metadata": {},
   "outputs": [],
   "source": [
    "setattr(args,'use_mp2vec_feat_pred','false')"
   ]
  },
  {
   "cell_type": "code",
   "execution_count": 17,
   "id": "ea669594-d95c-4c40-b048-995208502b55",
   "metadata": {},
   "outputs": [],
   "source": [
    "import importlib\n",
    "\n",
    "import dgl\n",
    "import hgmae\n",
    "import torch\n",
    "\n",
    "importlib.reload(hgmae)\n",
    "from hgmae import HGMAE"
   ]
  },
  {
   "cell_type": "code",
   "execution_count": 18,
   "id": "93a4a6f1-4be2-4ef2-93cb-db8fa07808d4",
   "metadata": {},
   "outputs": [],
   "source": [
    "h_dict=hg.ndata['h']\n",
    "mp2vec_feat_dict=hg.ndata['pap_m2v_emb'].copy()\n",
    "mp2vec_feat_dict\n",
    "for k,v in  hg.ndata['psp_m2v_emb'].items():\n",
    "    mp2vec_feat_dict[k]=torch.concat([mp2vec_feat_dict[k],v],dim=1)"
   ]
  },
  {
   "cell_type": "code",
   "execution_count": null,
   "id": "81c1025c-38ac-4cd9-8519-87d8e297ab89",
   "metadata": {},
   "outputs": [],
   "source": []
  },
  {
   "cell_type": "code",
   "execution_count": 19,
   "id": "67b6fd61-67c7-4f74-ad01-e01608cbbed8",
   "metadata": {},
   "outputs": [
    {
     "name": "stdout",
     "output_type": "stream",
     "text": [
      "Namespace(task='classification', dataset='acm', category='paper', activation='prelu', attr_restore_gamma=1, attr_restore_loss_weight=1, decoder='han', encoder='han', eva_lr=0.01, eva_wd=0.0005, feat_drop=0.2, attn_drop=0.5, node_mask_rate='0.5,0.005,0.8', attr_unchanged_rate=0.3, attr_replace_rate=0.2, gpu=0, in_dim=1902, hidden_dim=256, l2_coef=0, loss_func='sce', lr=0.0008, mae_epochs=3, mask_rate=0.4, mp2vec_feat_dim=128, mp2vec_feat_gamma=2, mp2vec_feat_drop=0.2, mp2vec_feat_pred_loss_weight=0.1, mp_edge_gamma=3, mp_edge_mask_rate=0.7, mp_edge_recon_loss_weight=1, mps_batch_size=256, mps_context_size=3, mps_epoch=1, mps_lr=0.001, mps_num_negative_samples=3, mps_walk_length=10, mps_walks_per_node=3, n_labels=3, negative_slope=0.2, nei_num=2, norm='batchnorm', num_heads=4, num_layers=2, num_out_heads=1, optimizer='adam', patience=10, residual=False, scheduler=True, scheduler_gamma=0.999, use_mp2vec_feat_pred=True, use_mp_edge_recon=True)\n",
      "<class 'argparse.Namespace'>\n"
     ]
    }
   ],
   "source": [
    "model = HGMAE.build_model_from_args(args, metapaths_dict)"
   ]
  },
  {
   "cell_type": "code",
   "execution_count": 12,
   "id": "2815f08e-6155-4e21-a3e7-e0843f1bb3d4",
   "metadata": {},
   "outputs": [
    {
     "name": "stdout",
     "output_type": "stream",
     "text": [
      "tensor(0.1608)\n",
      "tensor(1.0022)\n",
      "tensor(1.0420)\n"
     ]
    },
    {
     "data": {
      "text/plain": [
       "tensor(1.2672, grad_fn=<AddBackward0>)"
      ]
     },
     "execution_count": 12,
     "metadata": {},
     "output_type": "execute_result"
    }
   ],
   "source": [
    "model.forward(hg,h_dict,mp2vec_feat_dict,epoch=3)"
   ]
  },
  {
   "cell_type": "code",
   "execution_count": null,
   "id": "2dbd5ca1-0da7-4db1-b080-584149ddd1d3",
   "metadata": {},
   "outputs": [],
   "source": []
  },
  {
   "cell_type": "code",
   "execution_count": null,
   "id": "a0fc8ee6-5f23-49e1-9c8f-c7c341634836",
   "metadata": {},
   "outputs": [],
   "source": []
  },
  {
   "cell_type": "code",
   "execution_count": 25,
   "id": "0f125b35-af55-4d78-8ba6-5db55b66e856",
   "metadata": {},
   "outputs": [],
   "source": [
    "import torch.nn as nn\n"
   ]
  },
  {
   "cell_type": "code",
   "execution_count": 20,
   "id": "74588177-7fbb-41d3-83f5-d2d9f48c4516",
   "metadata": {},
   "outputs": [],
   "source": [
    "from openhgnn.models import HAN"
   ]
  },
  {
   "cell_type": "code",
   "execution_count": 21,
   "id": "1f82ee16-a639-42f9-b06a-4191c0e7ce8d",
   "metadata": {},
   "outputs": [
    {
     "data": {
      "text/plain": [
       "openhgnn.models.HAN.HAN"
      ]
     },
     "execution_count": 21,
     "metadata": {},
     "output_type": "execute_result"
    }
   ],
   "source": [
    "HAN.build_model_from_args()"
   ]
  },
  {
   "cell_type": "code",
   "execution_count": 41,
   "id": "621f67d8-9e66-481b-962e-1a86e81b5857",
   "metadata": {},
   "outputs": [],
   "source": [
    "ntypes=set()\n",
    "ntypes.add('paper')\n",
    "ntype_meta_paths_dict = {}\n",
    "for ntype in ntypes:\n",
    "    ntype_meta_paths_dict[ntype] = {}\n",
    "    for meta_path_name, meta_path in metapaths_dict.items():\n",
    "        # a meta path starts with this node type\n",
    "        if meta_path[0][0] == ntype:\n",
    "            ntype_meta_paths_dict[ntype][meta_path_name] = meta_path"
   ]
  },
  {
   "cell_type": "code",
   "execution_count": 43,
   "id": "85635bdb-7ca3-4c75-b783-709284500950",
   "metadata": {},
   "outputs": [
    {
     "data": {
      "text/plain": [
       "{'paper': {'PAP': [('paper', 'paper-author', 'author'),\n",
       "   ('author', 'author-paper', 'paper')],\n",
       "  'PSP': [('paper', 'paper-subject', 'subject'),\n",
       "   ('subject', 'subject-paper', 'paper')]}}"
      ]
     },
     "execution_count": 43,
     "metadata": {},
     "output_type": "execute_result"
    }
   ],
   "source": [
    "ntype_meta_paths_dict"
   ]
  },
  {
   "cell_type": "code",
   "execution_count": 54,
   "id": "cc10accc-69c3-48a3-b0f3-bc6da523453e",
   "metadata": {},
   "outputs": [],
   "source": [
    "in_dim=1902\n",
    "hidden_dim=256\n",
    "out_dim=256"
   ]
  },
  {
   "cell_type": "code",
   "execution_count": 58,
   "id": "aeb4e8e8-7c68-40d8-857c-592449551cce",
   "metadata": {},
   "outputs": [],
   "source": [
    "han=HAN(ntype_meta_paths_dict,in_dim,hidden_dim,out_dim,[4,4],dropout=0.5)\n"
   ]
  },
  {
   "cell_type": "code",
   "execution_count": 59,
   "id": "cacdb26d-c403-4c71-a8a3-d4e5a3aac24d",
   "metadata": {},
   "outputs": [],
   "source": [
    "out=han.forward(hg,hg.ndata['h'])"
   ]
  },
  {
   "cell_type": "code",
   "execution_count": 61,
   "id": "b460a6b3-5f0e-4aa9-98b8-919bc39ac5de",
   "metadata": {},
   "outputs": [
    {
     "data": {
      "text/plain": [
       "tensor([[-0.0050, -0.0119,  0.0775,  ...,  0.1484, -0.0008, -0.2171],\n",
       "        [-0.0512, -0.0030, -0.0563,  ...,  0.1167, -0.0183, -0.0856],\n",
       "        [-0.0559, -0.0975, -0.0848,  ...,  0.0208,  0.0353, -0.0796],\n",
       "        ...,\n",
       "        [-0.0968,  0.0197,  0.0212,  ...,  0.0378, -0.1055, -0.1342],\n",
       "        [-0.0207,  0.0193, -0.1038,  ..., -0.2370, -0.0806, -0.1783],\n",
       "        [ 0.0111,  0.0468,  0.0575,  ..., -0.0594,  0.0437, -0.0510]],\n",
       "       grad_fn=<AddmmBackward0>)"
      ]
     },
     "execution_count": 61,
     "metadata": {},
     "output_type": "execute_result"
    }
   ],
   "source": [
    "out['paper']"
   ]
  },
  {
   "cell_type": "code",
   "execution_count": null,
   "id": "e0c96018-9064-4706-9f6a-a1df8f74e9c6",
   "metadata": {},
   "outputs": [],
   "source": []
  },
  {
   "cell_type": "code",
   "execution_count": 69,
   "id": "b40a1c03-e28d-426f-9480-9241ada3a007",
   "metadata": {},
   "outputs": [],
   "source": [
    "from dgl.nn import GATConv\n",
    "\n",
    "g = dgl.graph(([0,1,2,3,2,5], [1,2,3,4,0,3]))\n",
    "g = dgl.add_self_loop(g)\n",
    "feat = torch.ones(6, 10)\n",
    "gatconv = GATConv(10, 2, num_heads=3)\n",
    "res = gatconv(g, feat)"
   ]
  },
  {
   "cell_type": "code",
   "execution_count": 73,
   "id": "baba9342-a655-4d95-a2ab-b0bc3e86cbcc",
   "metadata": {},
   "outputs": [
    {
     "data": {
      "text/plain": [
       "tensor([[ 1.9662,  0.9604, -2.1907,  1.9467, -0.7873,  0.7456],\n",
       "        [ 1.9662,  0.9604, -2.1907,  1.9467, -0.7873,  0.7456],\n",
       "        [ 1.9662,  0.9604, -2.1907,  1.9467, -0.7873,  0.7456],\n",
       "        [ 1.9662,  0.9604, -2.1907,  1.9467, -0.7873,  0.7456],\n",
       "        [ 1.9662,  0.9604, -2.1907,  1.9467, -0.7873,  0.7456],\n",
       "        [ 1.9662,  0.9604, -2.1907,  1.9467, -0.7873,  0.7456]],\n",
       "       grad_fn=<ViewBackward0>)"
      ]
     },
     "execution_count": 73,
     "metadata": {},
     "output_type": "execute_result"
    }
   ],
   "source": [
    "res.flatten(1)"
   ]
  },
  {
   "cell_type": "code",
   "execution_count": null,
   "id": "269399cc-a73d-4bd4-b1a1-aea543d7f59e",
   "metadata": {},
   "outputs": [],
   "source": []
  }
 ],
 "metadata": {
  "kernelspec": {
   "display_name": "GML",
   "language": "python",
   "name": "gml"
  },
  "language_info": {
   "codemirror_mode": {
    "name": "ipython",
    "version": 3
   },
   "file_extension": ".py",
   "mimetype": "text/x-python",
   "name": "python",
   "nbconvert_exporter": "python",
   "pygments_lexer": "ipython3",
   "version": "3.9.19"
  },
  "widgets": {
   "application/vnd.jupyter.widget-state+json": {
    "state": {},
    "version_major": 2,
    "version_minor": 0
   }
  }
 },
 "nbformat": 4,
 "nbformat_minor": 5
}
