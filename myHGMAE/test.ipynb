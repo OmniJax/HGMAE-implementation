{
 "cells": [
  {
   "cell_type": "code",
   "execution_count": 3,
   "id": "02b84856-33ce-4fe3-a9d2-d0bf8d973f05",
   "metadata": {
    "ExecuteTime": {
     "end_time": "2024-06-18T12:26:42.468841Z",
     "start_time": "2024-06-18T12:26:38.915450Z"
    }
   },
   "outputs": [
    {
     "name": "stderr",
     "output_type": "stream",
     "text": [
      "E:\\Softwares\\anaconda3\\envs\\GML\\lib\\site-packages\\tqdm\\auto.py:21: TqdmWarning: IProgress not found. Please update jupyter and ipywidgets. See https://ipywidgets.readthedocs.io/en/stable/user_install.html\n",
      "  from .autonotebook import tqdm as notebook_tqdm\n"
     ]
    }
   ],
   "source": [
    "import argparse\n",
    "import logging\n",
    "import dgl\n",
    "import yaml\n",
    "\n",
    "parser = argparse.ArgumentParser(description=\"GAT\")\n",
    "parser.add_argument(\n",
    "    \"--task\",\n",
    "    type=str,\n",
    "    default=\"classification\",\n",
    "    choices=[\"classification\", \"clustering\"],\n",
    ")\n",
    "parser.add_argument(\"--dataset\", type=str, default=\"acm\")\n",
    "args, _ = parser.parse_known_args()\n",
    "\n",
    "\n",
    "def load_best_configs(args, path):\n",
    "    with open(path, \"r\") as f:\n",
    "        configs = yaml.load(f, yaml.FullLoader)\n",
    "\n",
    "    if args.dataset not in configs:\n",
    "        logging.info(\"Best args not found\")\n",
    "        return args\n",
    "\n",
    "    configs = configs[args.dataset]\n",
    "\n",
    "    for k, v in configs.items():\n",
    "        if \"lr\" in k or \"weight_decay\" in k:\n",
    "            v = float(v)\n",
    "        setattr(args, k, v)\n",
    "    print(\"------ Use best configs ------\")\n",
    "    return args"
   ]
  },
  {
   "cell_type": "code",
   "execution_count": 4,
   "id": "eab884e5-44cf-499d-943a-d6bd2ec8bc7b",
   "metadata": {
    "ExecuteTime": {
     "end_time": "2024-06-18T12:26:42.483839Z",
     "start_time": "2024-06-18T12:26:42.470843Z"
    },
    "tags": []
   },
   "outputs": [
    {
     "name": "stdout",
     "output_type": "stream",
     "text": [
      "------ Use best configs ------\n"
     ]
    },
    {
     "data": {
      "text/plain": [
       "Namespace(task='classification', dataset='acm', in_dim=1902, hidden_dim=1024, category='paper', feat_drop=0.2, attn_drop=0.5, negative_slope=0.2, n_labels=3, nei_num=2, norm='batchnorm', num_heads=4, num_layers=2, num_out_heads=1, residual=False, mp_edge_recon_loss_weight=1, mp_edge_mask_rate=0.6, mp_edge_gamma=3, node_mask_rate='0.5,0.005,0.8', attr_restore_loss_weight=1, attr_restore_gamma=1, attr_replace_rate=0.2, attr_unchanged_rate=0.3, mp2vec_negative_size=5, mp2vec_window_size=5, mp2vec_batch_size=256, mp2vec_rw_length=10, mp2vec_walks_per_node=3, mp2vec_train_epoch=20, mp2vec_train_lr=0.01, mp2vec_feat_dim=128, mp2vec_feat_pred_loss_weight=0.1, mp2vec_feat_gamma=1, mp2vec_feat_drop=0.2, optimizer='adam', patience=10, gpu=0, mae_epochs=1000, eva_lr=0.01, eva_wd=0.0005, scheduler=True, scheduler_gamma=0.999, l2_coef=0, lr=0.0008)"
      ]
     },
     "execution_count": 4,
     "metadata": {},
     "output_type": "execute_result"
    }
   ],
   "source": [
    "parser = argparse.ArgumentParser(description=\"GAT\")\n",
    "parser.add_argument(\n",
    "    \"--task\",\n",
    "    type=str,\n",
    "    default=\"classification\",\n",
    "    choices=[\"classification\", \"clustering\"],\n",
    ")\n",
    "parser.add_argument(\"--dataset\", type=str, default=\"acm\")\n",
    "args, _ = parser.parse_known_args()\n",
    "\n",
    "args = load_best_configs(args, \"../myHGMAE/configs.yml\")\n",
    "args"
   ]
  },
  {
   "cell_type": "code",
   "execution_count": null,
   "id": "15d81994-0ad0-40dc-82f1-74187bbba4dd",
   "metadata": {
    "ExecuteTime": {
     "end_time": "2024-06-18T12:26:42.498650Z",
     "start_time": "2024-06-18T12:26:42.484844Z"
    }
   },
   "outputs": [],
   "source": []
  },
  {
   "cell_type": "code",
   "execution_count": 6,
   "id": "55519b0b-d2f4-4117-be63-9c59f9f46d7f",
   "metadata": {
    "ExecuteTime": {
     "end_time": "2024-06-18T12:26:44.369190Z",
     "start_time": "2024-06-18T12:26:42.500649Z"
    },
    "tags": []
   },
   "outputs": [],
   "source": [
    "from openhgnn.dataset.NodeClassificationDataset import OHGB_NodeClassification"
   ]
  },
  {
   "cell_type": "code",
   "execution_count": 9,
   "id": "737e1d66-879c-4f39-ac21-e91f244c9e5a",
   "metadata": {
    "ExecuteTime": {
     "end_time": "2024-06-18T12:26:44.549674Z",
     "start_time": "2024-06-18T12:26:44.370192Z"
    },
    "tags": []
   },
   "outputs": [
    {
     "name": "stdout",
     "output_type": "stream",
     "text": [
      "Extracting file to ./openhgnn/dataset\\ohgbn-acm\n",
      "Done saving data into cached files.\n"
     ]
    }
   ],
   "source": [
    "acm = OHGB_NodeClassification(\"ohgbn-acm\", raw_dir=\"./dataset\", logger=None)"
   ]
  },
  {
   "cell_type": "code",
   "execution_count": 10,
   "id": "0e378720-890b-4ed7-a218-0428e760651f",
   "metadata": {
    "ExecuteTime": {
     "end_time": "2024-06-18T12:26:44.565193Z",
     "start_time": "2024-06-18T12:26:44.551675Z"
    },
    "tags": []
   },
   "outputs": [],
   "source": [
    "hg = acm.g\n",
    "metapaths_dict = acm.meta_paths_dict"
   ]
  },
  {
   "cell_type": "code",
   "execution_count": 73,
   "id": "b7e036ac-636d-4820-9353-e68be1b31b25",
   "metadata": {
    "ExecuteTime": {
     "end_time": "2024-06-18T12:26:44.580681Z",
     "start_time": "2024-06-18T12:26:44.567191Z"
    }
   },
   "outputs": [
    {
     "data": {
      "text/plain": [
       "Graph(num_nodes=3025, num_edges=29436,\n",
       "      ndata_schemes={'pspap_m2v_emb': Scheme(shape=(64,), dtype=torch.float32), 'psp_m2v_emb': Scheme(shape=(64,), dtype=torch.float32), 'pap_m2v_emb': Scheme(shape=(64,), dtype=torch.float32), 'train_mask': Scheme(shape=(), dtype=torch.uint8), 'test_mask': Scheme(shape=(), dtype=torch.uint8), 'label': Scheme(shape=(), dtype=torch.int64), 'h': Scheme(shape=(1902,), dtype=torch.float32), 'valid_mask': Scheme(shape=(), dtype=torch.uint8)}\n",
       "      edata_schemes={})"
      ]
     },
     "execution_count": 73,
     "metadata": {},
     "output_type": "execute_result"
    }
   ],
   "source": [
    "dgl.metapath_reachable_graph(hg,metapaths_dict['PAP'])"
   ]
  },
  {
   "cell_type": "code",
   "execution_count": null,
   "id": "6b18cd4d-2e41-482b-9db8-1f75f0bf7fbb",
   "metadata": {
    "ExecuteTime": {
     "end_time": "2024-06-18T12:26:44.625723Z",
     "start_time": "2024-06-18T12:26:44.612725Z"
    }
   },
   "outputs": [],
   "source": []
  },
  {
   "cell_type": "code",
   "execution_count": 93,
   "id": "8dbac23d-2bdc-456b-9905-51d640b976ea",
   "metadata": {},
   "outputs": [
    {
     "data": {
      "text/plain": [
       "dict_keys(['pspap_m2v_emb', 'psp_m2v_emb', 'pap_m2v_emb', 'train_mask', 'test_mask', 'label', 'h', 'valid_mask'])"
      ]
     },
     "execution_count": 93,
     "metadata": {},
     "output_type": "execute_result"
    }
   ],
   "source": [
    "hg.nodes['paper'].data.keys()"
   ]
  },
  {
   "cell_type": "code",
   "execution_count": null,
   "id": "7ebfbcc4-e0e4-45e7-b208-6e00c0942830",
   "metadata": {},
   "outputs": [],
   "source": []
  },
  {
   "cell_type": "code",
   "execution_count": null,
   "id": "68c6ef86-f800-4632-b3d2-7ad94e385073",
   "metadata": {},
   "outputs": [],
   "source": []
  },
  {
   "cell_type": "code",
   "execution_count": null,
   "id": "8d987079-3810-4143-97a2-a301e630c0b8",
   "metadata": {
    "ExecuteTime": {
     "end_time": "2024-06-18T12:26:44.640723Z",
     "start_time": "2024-06-18T12:26:44.626726Z"
    }
   },
   "outputs": [],
   "source": []
  },
  {
   "cell_type": "code",
   "execution_count": 16,
   "id": "ea669594-d95c-4c40-b048-995208502b55",
   "metadata": {
    "ExecuteTime": {
     "end_time": "2024-06-18T12:33:36.320838Z",
     "start_time": "2024-06-18T12:33:36.308324Z"
    },
    "tags": []
   },
   "outputs": [],
   "source": [
    "from torch.utils.data import DataLoader\n",
    "import importlib\n",
    "\n",
    "import dgl\n",
    "import hgmae\n",
    "import torch\n",
    "\n",
    "importlib.reload(hgmae)\n",
    "from hgmae import HGMAE\n",
    "\n",
    "h_dict = hg.ndata[\"h\"]\n",
    "mp2vec_feat_dict = hg.ndata[\"pap_m2v_emb\"].copy()\n",
    "mp2vec_feat_dict\n",
    "for k, v in hg.ndata[\"psp_m2v_emb\"].items():\n",
    "    mp2vec_feat_dict[k] = torch.concat([mp2vec_feat_dict[k], v], dim=1)"
   ]
  },
  {
   "cell_type": "code",
   "execution_count": 17,
   "id": "67b6fd61-67c7-4f74-ad01-e01608cbbed8",
   "metadata": {
    "ExecuteTime": {
     "end_time": "2024-06-18T12:33:36.756368Z",
     "start_time": "2024-06-18T12:33:36.622852Z"
    },
    "tags": []
   },
   "outputs": [],
   "source": [
    "model = HGMAE.build_model_from_args(args, hg, metapaths_dict).to(\"cuda\")"
   ]
  },
  {
   "cell_type": "code",
   "execution_count": 19,
   "id": "2815f08e-6155-4e21-a3e7-e0843f1bb3d4",
   "metadata": {
    "ExecuteTime": {
     "end_time": "2024-06-18T12:33:41.926464Z",
     "start_time": "2024-06-18T12:33:38.279267Z"
    },
    "tags": []
   },
   "outputs": [
    {
     "name": "stdout",
     "output_type": "stream",
     "text": [
      "Training MetaPath2Vec feat by given metapaths_dict \n",
      "Metapath for training mp2vec models: ['paper', 'author', 'paper', 'subject', 'paper', 'author', 'paper', 'subject', 'paper']\n"
     ]
    },
    {
     "name": "stderr",
     "output_type": "stream",
     "text": [
      "100%|██████████| 3025/3025 [00:01<00:00, 1838.06it/s]\n",
      "100%|██████████| 20/20 [00:11<00:00,  1.79it/s]\n"
     ]
    }
   ],
   "source": [
    "loss=model.forward(hg.to(\"cuda\"), h_dict, epoch=3)"
   ]
  },
  {
   "cell_type": "code",
   "execution_count": 9,
   "id": "e8ce6772-de17-4f00-8340-972a117ed659",
   "metadata": {
    "ExecuteTime": {
     "end_time": "2024-06-18T12:26:47.856566Z",
     "start_time": "2024-06-18T12:26:47.842560Z"
    }
   },
   "outputs": [],
   "source": []
  },
  {
   "cell_type": "code",
   "execution_count": null,
   "id": "92920ea3-70cb-48fe-9e88-aac0951028fb",
   "metadata": {},
   "outputs": [],
   "source": []
  },
  {
   "cell_type": "code",
   "execution_count": 205,
   "id": "c3e5364c-c917-4bef-b362-3cedfc71f017",
   "metadata": {},
   "outputs": [],
   "source": [
    "best_model_state_dict=model.state_dict()"
   ]
  },
  {
   "cell_type": "code",
   "execution_count": null,
   "id": "e5386cff-c4b7-48eb-bc2f-4aa5bc2c303d",
   "metadata": {},
   "outputs": [],
   "source": []
  },
  {
   "cell_type": "code",
   "execution_count": null,
   "id": "4db5a07b-2ad3-420f-8a20-ccbf79f99eb2",
   "metadata": {},
   "outputs": [],
   "source": []
  },
  {
   "cell_type": "code",
   "execution_count": null,
   "id": "16482093-5ea0-4582-890f-df02dd734ad4",
   "metadata": {},
   "outputs": [],
   "source": []
  },
  {
   "cell_type": "code",
   "execution_count": 206,
   "id": "6897fe47-3ed4-4b50-bfa7-f8d8398005b3",
   "metadata": {},
   "outputs": [
    {
     "data": {
      "text/plain": [
       "<All keys matched successfully>"
      ]
     },
     "execution_count": 206,
     "metadata": {},
     "output_type": "execute_result"
    }
   ],
   "source": [
    "model.load_state_dict(best_model_state_dict)"
   ]
  },
  {
   "cell_type": "code",
   "execution_count": 221,
   "id": "9dfedb03-c455-42ba-bdf8-1c3a7f7e034a",
   "metadata": {},
   "outputs": [
    {
     "data": {
      "text/plain": [
       "tensor([[ 0.0705,  0.2278,  0.1491,  ...,  0.0207,  0.2788, -0.0295],\n",
       "        [-0.0525,  0.1709, -0.0020,  ..., -0.0326,  0.1014,  0.0926],\n",
       "        [ 0.0284,  0.1303, -0.0377,  ...,  0.0231,  0.0842,  0.0510],\n",
       "        ...,\n",
       "        [-0.0186,  0.1019, -0.0405,  ..., -0.0203,  0.1192,  0.0159],\n",
       "        [ 0.0026,  0.1289, -0.0267,  ..., -0.0058,  0.1372,  0.0607],\n",
       "        [-0.0202,  0.2216, -0.0134,  ...,  0.0193,  0.2289,  0.0461]],\n",
       "       device='cuda:0')"
      ]
     },
     "execution_count": 221,
     "metadata": {},
     "output_type": "execute_result"
    }
   ],
   "source": [
    "model.eval()\n",
    "emb=model.get_embeds(hg.to('cuda'),h_dict)\n",
    "emb"
   ]
  },
  {
   "cell_type": "code",
   "execution_count": null,
   "id": "6fbb0e8d-f6ad-43f4-8c44-553b973427be",
   "metadata": {},
   "outputs": [],
   "source": []
  },
  {
   "cell_type": "code",
   "execution_count": null,
   "id": "0b439fc9-7ac2-4c01-860f-3c3e053c0a83",
   "metadata": {},
   "outputs": [],
   "source": []
  },
  {
   "cell_type": "code",
   "execution_count": 229,
   "id": "269399cc-a73d-4bd4-b1a1-aea543d7f59e",
   "metadata": {},
   "outputs": [
    {
     "data": {
      "text/plain": [
       "tensor([[-0.0104,  0.0649, -0.0720,  ...,  0.0616, -0.0050, -0.0069],\n",
       "        [ 0.0160,  0.0797, -0.0949,  ...,  0.1019, -0.0014,  0.0130],\n",
       "        [ 0.0152,  0.0669, -0.0475,  ...,  0.0758,  0.0071,  0.0163],\n",
       "        ...,\n",
       "        [ 0.0091,  0.0804, -0.0853,  ...,  0.0720, -0.0224, -0.0068],\n",
       "        [ 0.0127,  0.0761, -0.0731,  ...,  0.0650,  0.0160,  0.0139],\n",
       "        [-0.0556,  0.1392, -0.1587,  ...,  0.1254,  0.1180, -0.0390]],\n",
       "       device='cuda:0')"
      ]
     },
     "execution_count": 229,
     "metadata": {},
     "output_type": "execute_result"
    }
   ],
   "source": [
    "model.get_mp2vec_feat"
   ]
  },
  {
   "cell_type": "code",
   "execution_count": 238,
   "id": "8771a5e2-9e55-469a-8b03-2ba721f9ed6d",
   "metadata": {},
   "outputs": [],
   "source": [
    "setattr(args,'meta_paths_dict',metapaths_dict)"
   ]
  },
  {
   "cell_type": "code",
   "execution_count": null,
   "id": "1d37cbe2-91ae-44bb-8840-86839e72f976",
   "metadata": {},
   "outputs": [],
   "source": []
  },
  {
   "cell_type": "code",
   "execution_count": null,
   "id": "9f0157b1-dfc6-4e92-a0b8-e6fd4c2d40f1",
   "metadata": {
    "ExecuteTime": {
     "end_time": "2024-06-18T08:38:41.531944Z",
     "start_time": "2024-06-18T08:38:41.521431Z"
    }
   },
   "outputs": [],
   "source": []
  },
  {
   "cell_type": "code",
   "execution_count": null,
   "id": "af9323005852df84",
   "metadata": {
    "ExecuteTime": {
     "end_time": "2024-06-18T08:38:41.546942Z",
     "start_time": "2024-06-18T08:38:41.533944Z"
    }
   },
   "outputs": [],
   "source": []
  },
  {
   "cell_type": "code",
   "execution_count": null,
   "id": "e0f397ca97b9c281",
   "metadata": {
    "ExecuteTime": {
     "end_time": "2024-06-18T08:38:41.561946Z",
     "start_time": "2024-06-18T08:38:41.547943Z"
    }
   },
   "outputs": [],
   "source": []
  },
  {
   "cell_type": "code",
   "execution_count": 30,
   "id": "a49013dd754ad58a",
   "metadata": {
    "ExecuteTime": {
     "end_time": "2024-06-18T10:24:13.806487Z",
     "start_time": "2024-06-18T10:24:13.731965Z"
    }
   },
   "outputs": [
    {
     "name": "stdout",
     "output_type": "stream",
     "text": [
      "tensor([[0.7549, 0.8417, 0.2960,  ..., 0.4265, 0.3086, 0.9750],\n",
      "        [0.4348, 0.5864, 0.6380,  ..., 0.2356, 0.5095, 0.6763],\n",
      "        [0.2927, 0.8077, 0.8731,  ..., 0.1522, 0.2907, 0.2629],\n",
      "        ...,\n",
      "        [0.6564, 0.5562, 0.7925,  ..., 0.4566, 0.1524, 0.3620],\n",
      "        [0.7505, 0.1635, 0.8027,  ..., 0.3803, 0.9968, 0.2249],\n",
      "        [0.6533, 0.0951, 0.9720,  ..., 0.0486, 0.7582, 0.1517]])\n"
     ]
    }
   ],
   "source": [
    "x=torch.rand(10030,2000)\n",
    "print(x)"
   ]
  },
  {
   "cell_type": "code",
   "execution_count": 47,
   "id": "68c149e3bef0b354",
   "metadata": {
    "ExecuteTime": {
     "end_time": "2024-06-18T10:24:14.611870Z",
     "start_time": "2024-06-18T10:24:14.604871Z"
    }
   },
   "outputs": [],
   "source": [
    "\n",
    "from scipy.sparse import spmatrix\n",
    "import torch\n",
    "from scipy import sparse as sp\n",
    "import numpy as np\n",
    "\n",
    "def preprocess_features(features):\n",
    "    \"\"\"Row-normalize feature matrix and convert to tuple representation\"\"\"\n",
    "    rowsum = np.array(features.sum(1))\n",
    "    r_inv = np.power(rowsum, -1).flatten()\n",
    "    r_inv[np.isinf(r_inv)] = 0.\n",
    "    r_mat_inv = sp.diags(r_inv)\n",
    "    features = r_mat_inv.dot(features)\n",
    "    return torch.FloatTensor(features)\n",
    "\n",
    "def myPrepreposs(feat):\n",
    "    rowsum = torch.sum(feat, dim=1).reshape(-1, 1)\n",
    "    r_inv = torch.pow(rowsum, -1)\n",
    "    r_inv=torch.where(torch.isinf(r_inv), 0, r_inv)\n",
    "    feat=feat*r_inv\n",
    "    return feat\n",
    "    \n",
    "    "
   ]
  },
  {
   "cell_type": "code",
   "execution_count": 69,
   "id": "902e4cb2892e0226",
   "metadata": {
    "ExecuteTime": {
     "end_time": "2024-06-18T10:24:15.445266Z",
     "start_time": "2024-06-18T10:24:15.407258Z"
    }
   },
   "outputs": [],
   "source": [
    "p2 = myPrepreposs(x)\n",
    "p1=preprocess_features(x)\n",
    "\n",
    "p2p=myPrepreposs(p2)\n",
    "p1p=preprocess_features(p1)"
   ]
  },
  {
   "cell_type": "code",
   "execution_count": null,
   "id": "4f34814f1ba6e9c9",
   "metadata": {
    "ExecuteTime": {
     "end_time": "2024-06-18T10:24:22.740398Z",
     "start_time": "2024-06-18T10:24:22.736397Z"
    }
   },
   "outputs": [],
   "source": []
  },
  {
   "cell_type": "code",
   "execution_count": null,
   "id": "ce07c2b6-5156-4758-86b0-295758707c31",
   "metadata": {},
   "outputs": [],
   "source": []
  },
  {
   "cell_type": "code",
   "execution_count": null,
   "id": "438f1501-7baa-4925-a0f1-8ce19322f627",
   "metadata": {},
   "outputs": [],
   "source": []
  },
  {
   "cell_type": "code",
   "execution_count": null,
   "id": "7301286b-4e3c-4783-a03e-02ea4466b59e",
   "metadata": {},
   "outputs": [],
   "source": []
  },
  {
   "cell_type": "code",
   "execution_count": null,
   "id": "c9fd8893-d7f0-43c3-b252-46442ce132a7",
   "metadata": {},
   "outputs": [],
   "source": []
  },
  {
   "cell_type": "code",
   "execution_count": null,
   "id": "7ce2e90c-e05d-4e9b-9151-525da0c3c3bf",
   "metadata": {},
   "outputs": [],
   "source": []
  },
  {
   "cell_type": "code",
   "execution_count": null,
   "id": "ac7efdda-083e-4526-b78b-a8f3bfccf7e9",
   "metadata": {},
   "outputs": [],
   "source": []
  },
  {
   "cell_type": "code",
   "execution_count": 17,
   "id": "4d273297e234820b",
   "metadata": {
    "ExecuteTime": {
     "end_time": "2024-06-18T11:47:36.210039Z",
     "start_time": "2024-06-18T11:47:36.191145Z"
    }
   },
   "outputs": [],
   "source": [
    "\n",
    "\n",
    "def normalize_adj(adj):\n",
    "    \"\"\"Symmetrically normalize adjacency matrix.\"\"\"\n",
    "    adj = sp.coo_matrix(adj)\n",
    "    rowsum = np.array(adj.sum(1))\n",
    "    d_inv_sqrt = np.power(rowsum, -0.5).flatten()\n",
    "    d_inv_sqrt[np.isinf(d_inv_sqrt)] = 0.\n",
    "    d_mat_inv_sqrt = sp.diags(d_inv_sqrt)\n",
    "    return adj.dot(d_mat_inv_sqrt).transpose().dot(d_mat_inv_sqrt).tocoo()\n",
    "\n",
    "def myNormalize(adj):\n",
    "    rowsum=torch.sum(adj, dim=1).reshape(-1, 1)\n",
    "    d_inv_sqrt=torch.pow(rowsum, -0.5)\n",
    "    d_inv_sqrt=torch.where(torch.isinf(d_inv_sqrt), 0, d_inv_sqrt)\n",
    "    return d_inv_sqrt.T*adj*d_inv_sqrt  "
   ]
  },
  {
   "cell_type": "code",
   "execution_count": 18,
   "id": "2b342c5332b7a32f",
   "metadata": {
    "ExecuteTime": {
     "end_time": "2024-06-18T11:47:36.621463Z",
     "start_time": "2024-06-18T11:47:36.502723Z"
    }
   },
   "outputs": [],
   "source": [
    "mps=[dgl.metapath_reachable_graph(hg, mp).adjacency_matrix() for mp in acm.meta_paths_dict.values()]"
   ]
  },
  {
   "cell_type": "code",
   "execution_count": 44,
   "id": "451698d691c62d7b",
   "metadata": {
    "ExecuteTime": {
     "end_time": "2024-06-18T11:57:03.848412Z",
     "start_time": "2024-06-18T11:57:03.737182Z"
    }
   },
   "outputs": [],
   "source": [
    "\n",
    "for mp in acm.meta_paths_dict.values(): \n",
    "    adj=dgl.metapath_reachable_graph(hg, mp).adjacency_matrix()\n",
    "    adj=myNormalize(adj.to_dense()).to_sparse()"
   ]
  },
  {
   "cell_type": "code",
   "execution_count": 49,
   "id": "b55c6e629460baa0",
   "metadata": {
    "ExecuteTime": {
     "end_time": "2024-06-18T11:57:28.700798Z",
     "start_time": "2024-06-18T11:57:28.670800Z"
    }
   },
   "outputs": [
    {
     "ename": "AttributeError",
     "evalue": "'Tensor' object has no attribute 'todense'",
     "output_type": "error",
     "traceback": [
      "\u001b[1;31m---------------------------------------------------------------------------\u001b[0m",
      "\u001b[1;31mAttributeError\u001b[0m                            Traceback (most recent call last)",
      "Cell \u001b[1;32mIn[49], line 1\u001b[0m\n\u001b[1;32m----> 1\u001b[0m \u001b[43madj\u001b[49m\u001b[38;5;241;43m.\u001b[39;49m\u001b[43mtodense\u001b[49m()\n",
      "\u001b[1;31mAttributeError\u001b[0m: 'Tensor' object has no attribute 'todense'"
     ]
    }
   ],
   "source": [
    "adj.todense()"
   ]
  },
  {
   "cell_type": "code",
   "execution_count": 46,
   "id": "8f7121fbf6e26747",
   "metadata": {
    "ExecuteTime": {
     "end_time": "2024-06-18T11:57:10.320295Z",
     "start_time": "2024-06-18T11:57:10.312293Z"
    }
   },
   "outputs": [
    {
     "data": {
      "text/plain": [
       "dgl.sparse.sparse_matrix.SparseMatrix"
      ]
     },
     "execution_count": 46,
     "metadata": {},
     "output_type": "execute_result"
    }
   ],
   "source": [
    "import dgl.sparse.sparse_matrix as sp\n",
    "dgl.sparse.sparse_matrix.SparseMatrix"
   ]
  },
  {
   "cell_type": "code",
   "execution_count": 47,
   "id": "9c1e8423cbad925d",
   "metadata": {
    "ExecuteTime": {
     "end_time": "2024-06-18T11:57:11.032633Z",
     "start_time": "2024-06-18T11:57:10.998625Z"
    }
   },
   "outputs": [
    {
     "data": {
      "text/plain": [
       "SparseMatrix(indices=tensor([[   0,    0,    0,  ..., 3024, 3024, 3024],\n",
       "                             [   0,   75,  586,  ..., 3021, 3023, 3024]]),\n",
       "             values=tensor([0.2000, 0.2000, 0.2000,  ..., 0.0008, 0.0008, 0.0008]),\n",
       "             shape=(3025, 3025), nnz=2200581)"
      ]
     },
     "execution_count": 47,
     "metadata": {},
     "output_type": "execute_result"
    }
   ],
   "source": [
    "sp.from_torch_sparse(adj.to_dense().to_sparse())"
   ]
  },
  {
   "cell_type": "code",
   "execution_count": 40,
   "id": "293bb0868012c166",
   "metadata": {
    "ExecuteTime": {
     "end_time": "2024-06-18T11:56:06.225234Z",
     "start_time": "2024-06-18T11:56:06.194389Z"
    }
   },
   "outputs": [
    {
     "data": {
      "text/plain": [
       "tensor(indices=tensor([[   0,    0,    0,  ..., 3024, 3024, 3024],\n",
       "                       [   0,   75,  586,  ..., 3021, 3023, 3024]]),\n",
       "       values=tensor([1., 1., 1.,  ..., 1., 1., 1.]),\n",
       "       size=(3025, 3025), nnz=2200581, layout=torch.sparse_coo)"
      ]
     },
     "execution_count": 40,
     "metadata": {},
     "output_type": "execute_result"
    }
   ],
   "source": []
  },
  {
   "cell_type": "code",
   "execution_count": 145,
   "id": "f030416026aaaeeb",
   "metadata": {
    "ExecuteTime": {
     "end_time": "2024-06-18T09:23:31.871219Z",
     "start_time": "2024-06-18T09:23:31.866224Z"
    }
   },
   "outputs": [],
   "source": []
  },
  {
   "cell_type": "code",
   "execution_count": 53,
   "id": "ead61b3c2d676166",
   "metadata": {
    "ExecuteTime": {
     "end_time": "2024-06-18T12:12:07.852318Z",
     "start_time": "2024-06-18T12:12:07.845260Z"
    }
   },
   "outputs": [],
   "source": []
  },
  {
   "cell_type": "code",
   "execution_count": 391,
   "id": "8dd130a21ffd77ad",
   "metadata": {
    "ExecuteTime": {
     "end_time": "2024-06-18T10:21:07.682891Z",
     "start_time": "2024-06-18T10:21:07.669895Z"
    }
   },
   "outputs": [],
   "source": []
  },
  {
   "cell_type": "code",
   "execution_count": 391,
   "id": "7d38acdde4acfb25",
   "metadata": {
    "ExecuteTime": {
     "end_time": "2024-06-18T10:21:08.091016Z",
     "start_time": "2024-06-18T10:21:08.078014Z"
    }
   },
   "outputs": [],
   "source": []
  },
  {
   "cell_type": "code",
   "execution_count": 473,
   "id": "77c64bcdb2d3c8cb",
   "metadata": {
    "ExecuteTime": {
     "end_time": "2024-06-18T10:42:48.664511Z",
     "start_time": "2024-06-18T10:42:47.867232Z"
    }
   },
   "outputs": [],
   "source": [
    "a=torch.randint(0,2,(5000,5000)).float()\n",
    "asp=sp.csr_matrix(a)\n"
   ]
  },
  {
   "cell_type": "code",
   "execution_count": 480,
   "id": "6bf2c9e8ab87ad0e",
   "metadata": {
    "ExecuteTime": {
     "end_time": "2024-06-18T10:43:03.577110Z",
     "start_time": "2024-06-18T10:43:03.568602Z"
    }
   },
   "outputs": [],
   "source": []
  },
  {
   "cell_type": "code",
   "execution_count": 473,
   "id": "9bb693a036fb12ba",
   "metadata": {
    "ExecuteTime": {
     "end_time": "2024-06-18T10:42:49.207752Z",
     "start_time": "2024-06-18T10:42:49.197536Z"
    }
   },
   "outputs": [],
   "source": []
  },
  {
   "cell_type": "markdown",
   "id": "906b21be3f221ce1",
   "metadata": {},
   "source": []
  },
  {
   "cell_type": "code",
   "execution_count": 474,
   "id": "f0a85979a9d593ef",
   "metadata": {
    "ExecuteTime": {
     "end_time": "2024-06-18T10:42:49.888910Z",
     "start_time": "2024-06-18T10:42:49.582776Z"
    }
   },
   "outputs": [],
   "source": [
    "asp_norm=normalize_adj(asp)"
   ]
  },
  {
   "cell_type": "code",
   "execution_count": 475,
   "id": "fb57e851a2ed3a63",
   "metadata": {
    "ExecuteTime": {
     "end_time": "2024-06-18T10:42:50.116721Z",
     "start_time": "2024-06-18T10:42:49.982709Z"
    }
   },
   "outputs": [],
   "source": [
    "norm1=torch.tensor(asp_norm.todense())"
   ]
  },
  {
   "cell_type": "code",
   "execution_count": 476,
   "id": "1de40571685f4a6b",
   "metadata": {
    "ExecuteTime": {
     "end_time": "2024-06-18T10:42:50.891888Z",
     "start_time": "2024-06-18T10:42:50.852366Z"
    }
   },
   "outputs": [],
   "source": [
    "norm2=myNormalize(a)"
   ]
  },
  {
   "cell_type": "code",
   "execution_count": 477,
   "id": "d66a788014981d19",
   "metadata": {
    "ExecuteTime": {
     "end_time": "2024-06-18T10:42:51.850410Z",
     "start_time": "2024-06-18T10:42:51.671639Z"
    }
   },
   "outputs": [
    {
     "data": {
      "text/plain": [
       "True"
      ]
     },
     "execution_count": 477,
     "metadata": {},
     "output_type": "execute_result"
    }
   ],
   "source": [
    "# torch.equal(norm1,norm2.T)\n",
    "torch.allclose(norm1,norm2.T)"
   ]
  },
  {
   "cell_type": "code",
   "execution_count": 478,
   "id": "51e63a10019afbeb",
   "metadata": {
    "ExecuteTime": {
     "end_time": "2024-06-18T10:42:52.592289Z",
     "start_time": "2024-06-18T10:42:52.579288Z"
    }
   },
   "outputs": [
    {
     "data": {
      "text/plain": [
       "tensor([[0.0000, 0.0004, 0.0000,  ..., 0.0000, 0.0004, 0.0000],\n",
       "        [0.0000, 0.0004, 0.0000,  ..., 0.0004, 0.0004, 0.0004],\n",
       "        [0.0000, 0.0000, 0.0004,  ..., 0.0000, 0.0000, 0.0000],\n",
       "        ...,\n",
       "        [0.0000, 0.0004, 0.0004,  ..., 0.0004, 0.0000, 0.0000],\n",
       "        [0.0004, 0.0004, 0.0004,  ..., 0.0004, 0.0000, 0.0000],\n",
       "        [0.0000, 0.0000, 0.0004,  ..., 0.0004, 0.0004, 0.0000]])"
      ]
     },
     "execution_count": 478,
     "metadata": {},
     "output_type": "execute_result"
    }
   ],
   "source": [
    "norm1"
   ]
  },
  {
   "cell_type": "code",
   "execution_count": 479,
   "id": "e863298d352403f2",
   "metadata": {
    "ExecuteTime": {
     "end_time": "2024-06-18T10:42:52.924259Z",
     "start_time": "2024-06-18T10:42:52.909351Z"
    }
   },
   "outputs": [
    {
     "data": {
      "text/plain": [
       "tensor([[0.0000, 0.0004, 0.0000,  ..., 0.0000, 0.0004, 0.0000],\n",
       "        [0.0000, 0.0004, 0.0000,  ..., 0.0004, 0.0004, 0.0004],\n",
       "        [0.0000, 0.0000, 0.0004,  ..., 0.0000, 0.0000, 0.0000],\n",
       "        ...,\n",
       "        [0.0000, 0.0004, 0.0004,  ..., 0.0004, 0.0000, 0.0000],\n",
       "        [0.0004, 0.0004, 0.0004,  ..., 0.0004, 0.0000, 0.0000],\n",
       "        [0.0000, 0.0000, 0.0004,  ..., 0.0004, 0.0004, 0.0000]])"
      ]
     },
     "execution_count": 479,
     "metadata": {},
     "output_type": "execute_result"
    }
   ],
   "source": [
    "norm2.T\n"
   ]
  },
  {
   "cell_type": "code",
   "execution_count": 451,
   "id": "18e69f744b9ebdbd",
   "metadata": {
    "ExecuteTime": {
     "end_time": "2024-06-18T10:41:20.879602Z",
     "start_time": "2024-06-18T10:41:20.865601Z"
    }
   },
   "outputs": [],
   "source": []
  },
  {
   "cell_type": "code",
   "execution_count": null,
   "id": "aad79d0dee383178",
   "metadata": {},
   "outputs": [],
   "source": []
  }
 ],
 "metadata": {
  "kernelspec": {
   "display_name": "GML",
   "language": "python",
   "name": "gml"
  },
  "language_info": {
   "codemirror_mode": {
    "name": "ipython",
    "version": 3
   },
   "file_extension": ".py",
   "mimetype": "text/x-python",
   "name": "python",
   "nbconvert_exporter": "python",
   "pygments_lexer": "ipython3",
   "version": "3.9.19"
  },
  "widgets": {
   "application/vnd.jupyter.widget-state+json": {
    "state": {},
    "version_major": 2,
    "version_minor": 0
   }
  }
 },
 "nbformat": 4,
 "nbformat_minor": 5
}
