{
 "cells": [
  {
   "cell_type": "code",
   "execution_count": 5,
   "id": "02b84856-33ce-4fe3-a9d2-d0bf8d973f05",
   "metadata": {
    "tags": []
   },
   "outputs": [],
   "source": [
    "import argparse\n",
    "import logging\n",
    "\n",
    "import yaml\n",
    "\n",
    "parser = argparse.ArgumentParser(description=\"GAT\")\n",
    "parser.add_argument(\n",
    "    \"--task\",\n",
    "    type=str,\n",
    "    default=\"classification\",\n",
    "    choices=[\"classification\", \"clustering\"],\n",
    ")\n",
    "parser.add_argument(\"--dataset\", type=str, default=\"acm\")\n",
    "args, _ = parser.parse_known_args()\n",
    "\n",
    "\n",
    "def load_best_configs(args, path):\n",
    "    with open(path, \"r\") as f:\n",
    "        configs = yaml.load(f, yaml.FullLoader)\n",
    "\n",
    "    if args.dataset not in configs:\n",
    "        logging.info(\"Best args not found\")\n",
    "        return args\n",
    "\n",
    "    configs = configs[args.dataset]\n",
    "\n",
    "    for k, v in configs.items():\n",
    "        if \"lr\" in k or \"weight_decay\" in k:\n",
    "            v = float(v)\n",
    "        setattr(args, k, v)\n",
    "    print(\"------ Use best configs ------\")\n",
    "    return args"
   ]
  },
  {
   "cell_type": "code",
   "execution_count": 7,
   "id": "eab884e5-44cf-499d-943a-d6bd2ec8bc7b",
   "metadata": {
    "tags": []
   },
   "outputs": [
    {
     "name": "stdout",
     "output_type": "stream",
     "text": [
      "------ Use best configs ------\n"
     ]
    },
    {
     "data": {
      "text/plain": [
       "Namespace(task='classification', dataset='acm', in_dim=1902, hidden_dim=256, category='paper', activation='prelu', feat_drop=0.2, attn_drop=0.5, negative_slope=0.2, n_labels=3, nei_num=2, norm='batchnorm', num_heads=4, num_layers=2, num_out_heads=1, optimizer='adam', patience=10, residual=False, mp_edge_recon_loss_weight=1, mp_edge_mask_rate=0.7, mp_edge_gamma=3, node_mask_rate='0.5,0.005,0.8', attr_restore_loss_weight=1, attr_restore_gamma=1, attr_replace_rate=0.2, attr_unchanged_rate=0.3, mp2vec_negative_size=5, mp2vec_window_size=3, mp2vec_batch_size=128, mp2vec_train_epoch=20, mp2vec_train_lr=0.001, mp2vec_feat_dim=128, mp2vec_feat_pred_loss_weight=0.1, mp2vec_feat_gamma=2, mp2vec_feat_drop=0.2, gpu=0, eva_lr=0.01, eva_wd=0.0005, scheduler=True, scheduler_gamma=0.999, l2_coef=0, lr=0.0008, mps_walk_length=10, mps_walks_per_node=3, mae_epochs=3)"
      ]
     },
     "execution_count": 7,
     "metadata": {},
     "output_type": "execute_result"
    }
   ],
   "source": [
    "parser = argparse.ArgumentParser(description=\"GAT\")\n",
    "parser.add_argument(\n",
    "    \"--task\",\n",
    "    type=str,\n",
    "    default=\"classification\",\n",
    "    choices=[\"classification\", \"clustering\"],\n",
    ")\n",
    "parser.add_argument(\"--dataset\", type=str, default=\"acm\")\n",
    "args, _ = parser.parse_known_args()\n",
    "\n",
    "args = load_best_configs(args, \"../myHGMAE/configs.yml\")\n",
    "args"
   ]
  },
  {
   "cell_type": "code",
   "execution_count": null,
   "id": "15d81994-0ad0-40dc-82f1-74187bbba4dd",
   "metadata": {},
   "outputs": [],
   "source": []
  },
  {
   "cell_type": "code",
   "execution_count": 10,
   "id": "55519b0b-d2f4-4117-be63-9c59f9f46d7f",
   "metadata": {
    "tags": []
   },
   "outputs": [
    {
     "name": "stderr",
     "output_type": "stream",
     "text": [
      "E:\\Softwares\\anaconda3\\envs\\GML\\lib\\site-packages\\tqdm\\auto.py:21: TqdmWarning: IProgress not found. Please update jupyter and ipywidgets. See https://ipywidgets.readthedocs.io/en/stable/user_install.html\n",
      "  from .autonotebook import tqdm as notebook_tqdm\n"
     ]
    }
   ],
   "source": [
    "from openhgnn.dataset.NodeClassificationDataset import OHGB_NodeClassification"
   ]
  },
  {
   "cell_type": "code",
   "execution_count": 11,
   "id": "737e1d66-879c-4f39-ac21-e91f244c9e5a",
   "metadata": {
    "tags": []
   },
   "outputs": [
    {
     "name": "stdout",
     "output_type": "stream",
     "text": [
      "Extracting file to ./openhgnn/dataset\\ohgbn-acm\n",
      "Done saving data into cached files.\n"
     ]
    }
   ],
   "source": [
    "acm = OHGB_NodeClassification(\"ohgbn-acm\", raw_dir=\"./dataset\", logger=None)"
   ]
  },
  {
   "cell_type": "code",
   "execution_count": 12,
   "id": "0e378720-890b-4ed7-a218-0428e760651f",
   "metadata": {
    "tags": []
   },
   "outputs": [],
   "source": [
    "hg = acm.g\n",
    "metapaths_dict = acm.meta_paths_dict"
   ]
  },
  {
   "cell_type": "code",
   "execution_count": null,
   "id": "b7e036ac-636d-4820-9353-e68be1b31b25",
   "metadata": {},
   "outputs": [],
   "source": []
  },
  {
   "cell_type": "code",
   "execution_count": 23,
   "id": "ea669594-d95c-4c40-b048-995208502b55",
   "metadata": {
    "tags": []
   },
   "outputs": [],
   "source": [
    "import importlib\n",
    "\n",
    "import dgl\n",
    "import hgmae\n",
    "import torch\n",
    "\n",
    "importlib.reload(hgmae)\n",
    "from hgmae import HGMAE\n",
    "\n",
    "h_dict = hg.ndata[\"h\"]\n",
    "mp2vec_feat_dict = hg.ndata[\"pap_m2v_emb\"].copy()\n",
    "mp2vec_feat_dict\n",
    "for k, v in hg.ndata[\"psp_m2v_emb\"].items():\n",
    "    mp2vec_feat_dict[k] = torch.concat([mp2vec_feat_dict[k], v], dim=1)"
   ]
  },
  {
   "cell_type": "code",
   "execution_count": 25,
   "id": "67b6fd61-67c7-4f74-ad01-e01608cbbed8",
   "metadata": {
    "tags": []
   },
   "outputs": [],
   "source": [
    "model = HGMAE.build_model_from_args(args, hg, metapaths_dict).to(\"cuda\")"
   ]
  },
  {
   "cell_type": "code",
   "execution_count": 64,
   "id": "2815f08e-6155-4e21-a3e7-e0843f1bb3d4",
   "metadata": {
    "tags": []
   },
   "outputs": [
    {
     "name": "stdout",
     "output_type": "stream",
     "text": [
      "tensor(0.1535, device='cuda:0')\n",
      "tensor(1.0012, device='cuda:0')\n",
      "tensor(1.1896, device='cuda:0')\n"
     ]
    }
   ],
   "source": [
    "loss=model.forward(hg.to(\"cuda\"), h_dict, epoch=3)"
   ]
  },
  {
   "cell_type": "code",
   "execution_count": null,
   "id": "e8ce6772-de17-4f00-8340-972a117ed659",
   "metadata": {},
   "outputs": [],
   "source": []
  },
  {
   "cell_type": "code",
   "execution_count": null,
   "id": "c3e5364c-c917-4bef-b362-3cedfc71f017",
   "metadata": {},
   "outputs": [],
   "source": []
  },
  {
   "cell_type": "code",
   "execution_count": null,
   "id": "6897fe47-3ed4-4b50-bfa7-f8d8398005b3",
   "metadata": {},
   "outputs": [],
   "source": []
  },
  {
   "cell_type": "code",
   "execution_count": null,
   "id": "9dfedb03-c455-42ba-bdf8-1c3a7f7e034a",
   "metadata": {},
   "outputs": [],
   "source": []
  },
  {
   "cell_type": "code",
   "execution_count": 25,
   "id": "0f125b35-af55-4d78-8ba6-5db55b66e856",
   "metadata": {},
   "outputs": [],
   "source": [
    "import torch.nn as nn"
   ]
  },
  {
   "cell_type": "code",
   "execution_count": 104,
   "id": "74588177-7fbb-41d3-83f5-d2d9f48c4516",
   "metadata": {},
   "outputs": [],
   "source": [
    "from openhgnn.models import HAN\n",
    "from openhgnn.utils import extract_metapaths"
   ]
  },
  {
   "cell_type": "code",
   "execution_count": 107,
   "id": "1f82ee16-a639-42f9-b06a-4191c0e7ce8d",
   "metadata": {},
   "outputs": [],
   "source": [
    "# HAN.build_model_from_args()"
   ]
  },
  {
   "cell_type": "code",
   "execution_count": 121,
   "id": "621f67d8-9e66-481b-962e-1a86e81b5857",
   "metadata": {},
   "outputs": [],
   "source": [
    "ntypes = set()\n",
    "ntypes.add(\"paper\")\n",
    "ntype_meta_paths_dict = {}\n",
    "for ntype in ntypes:\n",
    "    ntype_meta_paths_dict[ntype] = {}\n",
    "    for meta_path_name, meta_path in metapaths_dict.items():\n",
    "        # a meta path starts with this node type\n",
    "        if meta_path[0][0] == ntype:\n",
    "            ntype_meta_paths_dict[ntype][meta_path_name] = meta_path\n",
    "\n",
    "for ntype, meta_paths_dict in ntype_meta_paths_dict.items():\n",
    "    if len(meta_paths_dict) == 0:\n",
    "        ntype_meta_paths_dict[ntype] = extract_metapaths(\n",
    "            ntype, hg.canonical_etypes, self_loop=False\n",
    "        )"
   ]
  },
  {
   "cell_type": "code",
   "execution_count": 122,
   "id": "85635bdb-7ca3-4c75-b783-709284500950",
   "metadata": {},
   "outputs": [
    {
     "data": {
      "text/plain": [
       "{'paper': {'PAP': [('paper', 'paper-author', 'author'),\n",
       "   ('author', 'author-paper', 'paper')],\n",
       "  'PSP': [('paper', 'paper-subject', 'subject'),\n",
       "   ('subject', 'subject-paper', 'paper')]}}"
      ]
     },
     "execution_count": 122,
     "metadata": {},
     "output_type": "execute_result"
    }
   ],
   "source": [
    "ntype_meta_paths_dict"
   ]
  },
  {
   "cell_type": "code",
   "execution_count": 123,
   "id": "cc10accc-69c3-48a3-b0f3-bc6da523453e",
   "metadata": {},
   "outputs": [],
   "source": [
    "in_dim = 1902\n",
    "hidden_dim = 256\n",
    "out_dim = 256"
   ]
  },
  {
   "cell_type": "code",
   "execution_count": 124,
   "id": "aeb4e8e8-7c68-40d8-857c-592449551cce",
   "metadata": {},
   "outputs": [],
   "source": [
    "han = HAN(ntype_meta_paths_dict, in_dim, hidden_dim, out_dim, [4, 4], dropout=0.5)"
   ]
  },
  {
   "cell_type": "code",
   "execution_count": 125,
   "id": "cacdb26d-c403-4c71-a8a3-d4e5a3aac24d",
   "metadata": {},
   "outputs": [],
   "source": [
    "out = han.forward(hg, hg.ndata[\"h\"])"
   ]
  },
  {
   "cell_type": "code",
   "execution_count": 126,
   "id": "b460a6b3-5f0e-4aa9-98b8-919bc39ac5de",
   "metadata": {},
   "outputs": [
    {
     "data": {
      "text/plain": [
       "tensor([[-0.0185, -0.0060, -0.1637,  ..., -0.1354,  0.0114, -0.1894],\n",
       "        [-0.1291,  0.2156, -0.0368,  ..., -0.0423, -0.0341, -0.1384],\n",
       "        [-0.1062,  0.1021,  0.0197,  ..., -0.0539, -0.0548, -0.1145],\n",
       "        ...,\n",
       "        [-0.0623,  0.1575,  0.0028,  ..., -0.0998, -0.0724, -0.1363],\n",
       "        [-0.2564,  0.0052,  0.0705,  ..., -0.0033, -0.1203, -0.1832],\n",
       "        [-0.1525,  0.0833, -0.1657,  ..., -0.1223,  0.0076, -0.2801]],\n",
       "       grad_fn=<AddmmBackward0>)"
      ]
     },
     "execution_count": 126,
     "metadata": {},
     "output_type": "execute_result"
    }
   ],
   "source": [
    "out[\"paper\"]"
   ]
  },
  {
   "cell_type": "code",
   "execution_count": null,
   "id": "e0c96018-9064-4706-9f6a-a1df8f74e9c6",
   "metadata": {},
   "outputs": [],
   "source": []
  },
  {
   "cell_type": "code",
   "execution_count": 69,
   "id": "b40a1c03-e28d-426f-9480-9241ada3a007",
   "metadata": {},
   "outputs": [],
   "source": [
    "from dgl.nn import GATConv\n",
    "\n",
    "g = dgl.graph(([0, 1, 2, 3, 2, 5], [1, 2, 3, 4, 0, 3]))\n",
    "g = dgl.add_self_loop(g)\n",
    "feat = torch.ones(6, 10)\n",
    "gatconv = GATConv(10, 2, num_heads=3)\n",
    "res = gatconv(g, feat)"
   ]
  },
  {
   "cell_type": "code",
   "execution_count": 128,
   "id": "baba9342-a655-4d95-a2ab-b0bc3e86cbcc",
   "metadata": {},
   "outputs": [
    {
     "data": {
      "text/plain": [
       "torch.Size([6, 3, 2])"
      ]
     },
     "execution_count": 128,
     "metadata": {},
     "output_type": "execute_result"
    }
   ],
   "source": [
    "res.shape"
   ]
  },
  {
   "cell_type": "code",
   "execution_count": null,
   "id": "269399cc-a73d-4bd4-b1a1-aea543d7f59e",
   "metadata": {},
   "outputs": [],
   "source": []
  },
  {
   "cell_type": "code",
   "execution_count": null,
   "id": "8771a5e2-9e55-469a-8b03-2ba721f9ed6d",
   "metadata": {},
   "outputs": [],
   "source": []
  },
  {
   "cell_type": "code",
   "execution_count": null,
   "id": "4e5e6f51-a49c-4c80-8cdb-c80ce1607d68",
   "metadata": {},
   "outputs": [],
   "source": []
  },
  {
   "cell_type": "code",
   "execution_count": null,
   "id": "1d37cbe2-91ae-44bb-8840-86839e72f976",
   "metadata": {},
   "outputs": [],
   "source": []
  },
  {
   "cell_type": "code",
   "execution_count": null,
   "id": "9f0157b1-dfc6-4e92-a0b8-e6fd4c2d40f1",
   "metadata": {},
   "outputs": [],
   "source": []
  }
 ],
 "metadata": {
  "kernelspec": {
   "display_name": "GML",
   "language": "python",
   "name": "gml"
  },
  "language_info": {
   "codemirror_mode": {
    "name": "ipython",
    "version": 3
   },
   "file_extension": ".py",
   "mimetype": "text/x-python",
   "name": "python",
   "nbconvert_exporter": "python",
   "pygments_lexer": "ipython3",
   "version": "3.9.19"
  },
  "widgets": {
   "application/vnd.jupyter.widget-state+json": {
    "state": {},
    "version_major": 2,
    "version_minor": 0
   }
  }
 },
 "nbformat": 4,
 "nbformat_minor": 5
}
