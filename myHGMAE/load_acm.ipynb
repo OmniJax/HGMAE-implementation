{
 "cells": [
  {
   "cell_type": "code",
   "id": "b9b421be-06d0-470e-bdee-8e83ca1bacd6",
   "metadata": {
    "ExecuteTime": {
     "end_time": "2024-06-26T02:24:06.235850Z",
     "start_time": "2024-06-26T02:24:02.896037Z"
    }
   },
   "source": [
    "import dgl\n",
    "import numpy as np\n",
    "import scipy.sparse as sp\n",
    "import torch\n",
    "import torch as th"
   ],
   "outputs": [
    {
     "name": "stderr",
     "output_type": "stream",
     "text": [
      "E:\\Softwares\\anaconda3\\envs\\GML\\lib\\site-packages\\tqdm\\auto.py:21: TqdmWarning: IProgress not found. Please update jupyter and ipywidgets. See https://ipywidgets.readthedocs.io/en/stable/user_install.html\n",
      "  from .autonotebook import tqdm as notebook_tqdm\n"
     ]
    }
   ],
   "execution_count": 3
  },
  {
   "cell_type": "code",
   "id": "2ffd1090-66f9-49b3-aa46-8c126effa7f4",
   "metadata": {
    "ExecuteTime": {
     "end_time": "2024-06-26T02:24:06.239851Z",
     "start_time": "2024-06-26T02:24:06.236850Z"
    }
   },
   "source": [
    "data_folder = \"data/\""
   ],
   "outputs": [],
   "execution_count": 4
  },
  {
   "cell_type": "code",
   "id": "ac9e9713-b8fc-4e93-ba84-78b356a50a20",
   "metadata": {
    "ExecuteTime": {
     "end_time": "2024-06-26T02:24:08.106502Z",
     "start_time": "2024-06-26T02:24:07.636380Z"
    }
   },
   "source": [
    "path = data_folder + \"acm/\"\n",
    "label = np.load(path + \"labels.npy\")\n",
    "nei_a = np.load(path + \"nei_a.npy\", allow_pickle=True)\n",
    "nei_s = np.load(path + \"nei_s.npy\", allow_pickle=True)\n",
    "# 源码在此步骤划分了[20,40,60]\n",
    "type_num = [4019, 7167, 60]\n",
    "ratio = [20, 40, 60]\n",
    "feat_p = sp.load_npz(path + \"p_feat.npz\")\n",
    "feat_a = sp.eye(type_num[1])\n",
    "feat_s = sp.eye(type_num[2])\n",
    "\n",
    "pap = sp.load_npz(path + \"pap.npz\")\n",
    "psp = sp.load_npz(path + \"psp.npz\")\n",
    "pos = sp.load_npz(path + \"pos.npz\")\n",
    "\n",
    "train = [np.load(path + \"train_\" + str(i) + \".npy\") for i in ratio]\n",
    "test = [np.load(path + \"test_\" + str(i) + \".npy\") for i in ratio]\n",
    "val = [np.load(path + \"val_\" + str(i) + \".npy\") for i in ratio]\n",
    "\n",
    "label = th.LongTensor(label)\n",
    "nei_a = [th.LongTensor(i) for i in nei_a]\n",
    "nei_s = [th.LongTensor(i) for i in nei_s]\n",
    "\n",
    "# 源码此步preprocess_features\n",
    "feat_p = th.FloatTensor(feat_p.todense())\n",
    "feat_a = th.FloatTensor(feat_a.todense())\n",
    "feat_s = th.FloatTensor(feat_s.todense())\n",
    "\n",
    "pap = th.FloatTensor(pap.todense()).to_sparse()\n",
    "psp = th.FloatTensor(psp.todense()).to_sparse()\n",
    "pos = th.FloatTensor(pos.todense()).to_sparse()\n",
    "\n",
    "train = [th.LongTensor(i) for i in train]\n",
    "val = [th.LongTensor(i) for i in val]\n",
    "test = [th.LongTensor(i) for i in test]"
   ],
   "outputs": [],
   "execution_count": 5
  },
  {
   "cell_type": "code",
   "id": "92c640c5-4e86-47ea-8031-769323a82d0d",
   "metadata": {
    "ExecuteTime": {
     "end_time": "2024-06-26T02:24:29.608196Z",
     "start_time": "2024-06-26T02:24:29.586196Z"
    }
   },
   "source": [
    "# adj\n",
    "neis = [nei_a, nei_s]\n",
    "links = []\n",
    "for src, nei in enumerate(neis):\n",
    "    dst_array_concat = th.concatenate(nei)  # .unsqueeze(0)\n",
    "    src_array_concat = []\n",
    "    for src_id, dst_array in enumerate(nei):\n",
    "        src_array_concat.extend([src_id] * len(dst_array))\n",
    "    src_array_concat = th.tensor(src_array_concat)  # .unsqueeze(0)\n",
    "    index = th.vstack([src_array_concat, dst_array_concat])\n",
    "    links.append(index)\n",
    "    index = th.vstack([dst_array_concat, src_array_concat])\n",
    "    links.append(index)"
   ],
   "outputs": [],
   "execution_count": 6
  },
  {
   "cell_type": "code",
   "id": "cad18aa8-52bb-406e-a605-ee1b0f27c545",
   "metadata": {
    "ExecuteTime": {
     "end_time": "2024-06-26T02:24:32.488395Z",
     "start_time": "2024-06-26T02:24:31.939178Z"
    }
   },
   "source": [
    "data_dict = {\n",
    "    (\"paper\", \"paper-author\", \"author\"): (links[0][0], links[0][1]),\n",
    "    (\"author\", \"author-paper\", \"paper\"): (links[1][0], links[1][1]),\n",
    "    (\"paper\", \"paper-subject\", \"subject\"): (links[2][0], links[2][1]),\n",
    "    (\"subject\", \"subject-paper\", \"paper\"): (links[3][0], links[3][1]),\n",
    "}\n",
    "\n",
    "\n",
    "meta_paths_dict = {\n",
    "    \"PAP\": [(\"paper\", \"paper-author\", \"author\"), (\"author\", \"author-paper\", \"paper\")],\n",
    "    \"PSP\": [\n",
    "        (\"paper\", \"paper-subject\", \"subject\"),\n",
    "        (\"subject\", \"subject-paper\", \"paper\"),\n",
    "    ],\n",
    "}\n",
    "\n",
    "hg = dgl.heterograph(data_dict)\n",
    "\n",
    "hg.nodes[\"paper\"].data[\"h\"] = feat_p\n",
    "hg.nodes[\"paper\"].data[\"label\"] = label\n",
    "\n",
    "hg.nodes[\"author\"].data[\"h\"] = feat_a\n",
    "hg.nodes[\"subject\"].data[\"h\"] = feat_s\n",
    "\n",
    "ratio=[20,40,60]\n",
    "for i,r in enumerate(ratio):\n",
    "    mask=th.zeros(4019).bool()\n",
    "    mask[train[i]]=True\n",
    "    hg.nodes['paper'].data['train_%d'%r]=mask\n",
    "\n",
    "    mask=th.zeros(4019).bool()\n",
    "    mask[val[i]]=True\n",
    "    hg.nodes['paper'].data['val_%d'%r]=mask\n",
    "\n",
    "    mask=th.zeros(4019).bool()\n",
    "    mask[test[i]]=True\n",
    "    hg.nodes['paper'].data['test_%d'%r]=mask\n",
    "\n",
    "dgl.save_graphs('data/acm4HGMAE.bin', hg)"
   ],
   "outputs": [],
   "execution_count": 7
  },
  {
   "metadata": {
    "ExecuteTime": {
     "end_time": "2024-06-26T02:24:33.239817Z",
     "start_time": "2024-06-26T02:24:33.235815Z"
    }
   },
   "cell_type": "code",
   "source": "",
   "id": "53a4214dd93766b4",
   "outputs": [],
   "execution_count": 7
  },
  {
   "cell_type": "code",
   "id": "23a7b990-8762-45d1-a4ed-a884fb31c50f",
   "metadata": {
    "ExecuteTime": {
     "end_time": "2024-06-26T02:24:33.970732Z",
     "start_time": "2024-06-26T02:24:33.629317Z"
    }
   },
   "source": [
    "a1=dgl.metapath_reachable_graph(hg,meta_paths_dict['PSP']).adjacency_matrix().to_dense()\n",
    "a2=psp.to_dense()\n",
    "torch.equal(a1,a2)"
   ],
   "outputs": [
    {
     "data": {
      "text/plain": [
       "True"
      ]
     },
     "execution_count": 8,
     "metadata": {},
     "output_type": "execute_result"
    }
   ],
   "execution_count": 8
  },
  {
   "cell_type": "code",
   "id": "a4bbd73a-c2c5-4cd2-b328-03750d5b6d2a",
   "metadata": {
    "ExecuteTime": {
     "end_time": "2024-06-26T02:24:43.076435Z",
     "start_time": "2024-06-26T02:24:43.002925Z"
    }
   },
   "source": [
    "a1=dgl.metapath_reachable_graph(hg,meta_paths_dict['PAP']).adjacency_matrix().to_dense()\n",
    "a2=pap.to_dense()\n",
    "torch.equal(a1,a2)"
   ],
   "outputs": [
    {
     "data": {
      "text/plain": [
       "True"
      ]
     },
     "execution_count": 10,
     "metadata": {},
     "output_type": "execute_result"
    }
   ],
   "execution_count": 10
  },
  {
   "cell_type": "code",
   "id": "4493e6e5-7eed-4b9a-8d94-b157c09d4d10",
   "metadata": {
    "ExecuteTime": {
     "end_time": "2024-06-26T02:24:44.299026Z",
     "start_time": "2024-06-26T02:24:44.295025Z"
    }
   },
   "source": "",
   "outputs": [],
   "execution_count": 10
  },
  {
   "cell_type": "code",
   "id": "b4c4f423-54c6-4978-bd5c-e8785db81ff4",
   "metadata": {
    "ExecuteTime": {
     "end_time": "2024-06-26T02:24:44.509066Z",
     "start_time": "2024-06-26T02:24:44.505065Z"
    }
   },
   "source": [],
   "outputs": [],
   "execution_count": 10
  },
  {
   "cell_type": "code",
   "execution_count": null,
   "id": "5341fbad-2cb8-40b5-93c5-0636483324f3",
   "metadata": {},
   "outputs": [],
   "source": []
  }
 ],
 "metadata": {
  "kernelspec": {
   "display_name": "GML",
   "language": "python",
   "name": "gml"
  },
  "language_info": {
   "codemirror_mode": {
    "name": "ipython",
    "version": 3
   },
   "file_extension": ".py",
   "mimetype": "text/x-python",
   "name": "python",
   "nbconvert_exporter": "python",
   "pygments_lexer": "ipython3",
   "version": "3.9.19"
  },
  "widgets": {
   "application/vnd.jupyter.widget-state+json": {
    "state": {},
    "version_major": 2,
    "version_minor": 0
   }
  }
 },
 "nbformat": 4,
 "nbformat_minor": 5
}
