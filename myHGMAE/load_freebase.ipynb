{
 "cells": [
  {
   "cell_type": "code",
   "id": "287d09b2-ef79-4835-8602-37da04e57e66",
   "metadata": {
    "ExecuteTime": {
     "end_time": "2024-06-26T02:04:51.577574Z",
     "start_time": "2024-06-26T02:04:48.421566Z"
    }
   },
   "source": [
    "import dgl\n",
    "import numpy as np\n",
    "import scipy.sparse as sp\n",
    "import torch as th"
   ],
   "outputs": [
    {
     "name": "stderr",
     "output_type": "stream",
     "text": [
      "E:\\Softwares\\anaconda3\\envs\\GML\\lib\\site-packages\\tqdm\\auto.py:21: TqdmWarning: IProgress not found. Please update jupyter and ipywidgets. See https://ipywidgets.readthedocs.io/en/stable/user_install.html\n",
      "  from .autonotebook import tqdm as notebook_tqdm\n"
     ]
    }
   ],
   "execution_count": 2
  },
  {
   "cell_type": "code",
   "id": "7a2921d2-60db-4121-938e-51632dfaf427",
   "metadata": {
    "ExecuteTime": {
     "end_time": "2024-06-26T02:04:55.134928Z",
     "start_time": "2024-06-26T02:04:55.128928Z"
    }
   },
   "source": [
    "data_folder = \"data/\"\n",
    "path = data_folder + \"freebase/\"\n",
    "\n",
    "# \"freebase\": {\n",
    "#     \"type_num\": [3492, 2502, 33401, 4459],\n",
    "#     \"nei_num\": 3,\n",
    "#     \"n_labels\": 3,\n",
    "# },\n",
    "\n",
    "type_num = [3492, 2502, 33401, 4459]\n",
    "ratio = [20, 40, 60]"
   ],
   "outputs": [],
   "execution_count": 3
  },
  {
   "cell_type": "code",
   "id": "92ea76cf-e44f-408e-b810-71f2b57fa673",
   "metadata": {
    "ExecuteTime": {
     "end_time": "2024-06-26T02:05:01.085008Z",
     "start_time": "2024-06-26T02:04:57.823037Z"
    }
   },
   "source": [
    "label = np.load(path + \"labels.npy\")\n",
    "nei_d = np.load(path + \"nei_d.npy\", allow_pickle=True)\n",
    "nei_a = np.load(path + \"nei_a.npy\", allow_pickle=True)\n",
    "nei_w = np.load(path + \"nei_w.npy\", allow_pickle=True)\n",
    "\n",
    "feat_m = sp.eye(type_num[0])\n",
    "feat_d = sp.eye(type_num[1])\n",
    "feat_a = sp.eye(type_num[2])\n",
    "feat_w = sp.eye(type_num[3])\n",
    "\n",
    "mam = sp.load_npz(path + \"mam.npz\")\n",
    "mdm = sp.load_npz(path + \"mdm.npz\")\n",
    "mwm = sp.load_npz(path + \"mwm.npz\")\n",
    "pos = sp.load_npz(path + \"pos.npz\")\n",
    "\n",
    "train = [np.load(path + \"train_\" + str(i) + \".npy\") for i in ratio]\n",
    "test = [np.load(path + \"test_\" + str(i) + \".npy\") for i in ratio]\n",
    "val = [np.load(path + \"val_\" + str(i) + \".npy\") for i in ratio]\n",
    "\n",
    "label = th.LongTensor(label)\n",
    "nei_d = [th.LongTensor(i) for i in nei_d]\n",
    "nei_a = [th.LongTensor(i) for i in nei_a]\n",
    "nei_w = [th.LongTensor(i) for i in nei_w]\n",
    "\n",
    "feat_m = th.FloatTensor(feat_m.todense())\n",
    "feat_d = th.FloatTensor(feat_d.todense())\n",
    "feat_a = th.FloatTensor(feat_a.todense())\n",
    "feat_w = th.FloatTensor(feat_w.todense())\n",
    "\n",
    "mam = th.LongTensor(mam.todense()).to_sparse()\n",
    "mdm = th.LongTensor(mdm.todense()).to_sparse()\n",
    "mwm = th.LongTensor(mwm.todense()).to_sparse()\n",
    "\n",
    "train = [th.LongTensor(i) for i in train]\n",
    "val = [th.LongTensor(i) for i in val]\n",
    "test = [th.LongTensor(i) for i in test]"
   ],
   "outputs": [],
   "execution_count": 4
  },
  {
   "cell_type": "code",
   "id": "a804e585-9b8c-4e0a-84fa-4dc1bc272411",
   "metadata": {
    "ExecuteTime": {
     "end_time": "2024-06-26T02:06:48.844534Z",
     "start_time": "2024-06-26T02:06:48.802004Z"
    }
   },
   "source": [
    "# adj\n",
    "neis = [nei_d, nei_a, nei_w]\n",
    "links = []\n",
    "for src, nei in enumerate(neis):\n",
    "    dst_array_concat = th.concatenate(nei)  # .unsqueeze(0)\n",
    "    src_array_concat = []\n",
    "    for src_id, dst_array in enumerate(nei):\n",
    "        src_array_concat.extend([src_id] * len(dst_array))\n",
    "    src_array_concat = th.tensor(src_array_concat)  # .unsqueeze(0)\n",
    "    index = th.vstack([src_array_concat, dst_array_concat])\n",
    "    links.append(index)\n",
    "    index = th.vstack([dst_array_concat, src_array_concat])\n",
    "    links.append(index)"
   ],
   "outputs": [],
   "execution_count": 5
  },
  {
   "metadata": {
    "ExecuteTime": {
     "end_time": "2024-06-26T02:07:07.276377Z",
     "start_time": "2024-06-26T02:07:07.272377Z"
    }
   },
   "cell_type": "code",
   "source": "",
   "id": "e5300700c2402d7d",
   "outputs": [],
   "execution_count": 6
  },
  {
   "cell_type": "code",
   "id": "58e02d9f-ceec-475e-9204-d82667dad24c",
   "metadata": {
    "ExecuteTime": {
     "end_time": "2024-06-26T02:07:08.391385Z",
     "start_time": "2024-06-26T02:07:08.376388Z"
    }
   },
   "source": [
    "data_dict = {\n",
    "    (\"M\", \"M-D\", \"D\"): (links[0][0], links[0][1]),\n",
    "    (\"D\", \"D-M\", \"M\"): (links[1][0], links[1][1]),\n",
    "    (\"M\", \"M-A\", \"A\"): (links[2][0], links[2][1]),\n",
    "    (\"A\", \"A-M\", \"M\"): (links[3][0], links[3][1]),\n",
    "    (\"M\", \"M-W\", \"W\"): (links[4][0], links[4][1]),\n",
    "    (\"W\", \"W-M\", \"M\"): (links[5][0], links[5][1]),\n",
    "}\n",
    "\n",
    "meta_paths_dict = {\n",
    "    \"MAM\": [(\"M\", \"M-A\", \"A\"), (\"A\", \"A-M\", \"M\")],\n",
    "    \"MDM\": [(\"M\", \"M-D\", \"D\"), (\"D\", \"D-M\", \"M\")],\n",
    "    \"MWM\": [('M', 'M-W', 'W'), ('W', 'W-M', 'M')]\n",
    "}\n",
    "\n",
    "hg = dgl.heterograph(data_dict)\n"
   ],
   "outputs": [],
   "execution_count": 7
  },
  {
   "cell_type": "code",
   "id": "b5731eb8-8359-4a1b-82b5-2375db15628a",
   "metadata": {
    "ExecuteTime": {
     "end_time": "2024-06-26T02:07:17.698371Z",
     "start_time": "2024-06-26T02:07:17.689360Z"
    }
   },
   "source": [
    "hg.nodes[\"M\"].data[\"h\"] = feat_m\n",
    "hg.nodes[\"M\"].data[\"label\"] = label\n",
    "\n",
    "hg.nodes['A'].data['h'] = feat_a\n",
    "hg.nodes['W'].data['h'] = feat_w\n",
    "hg.nodes['D'].data['h'] = feat_d\n",
    "\n",
    "ratio = [20, 40, 60]\n",
    "for i, r in enumerate(ratio):\n",
    "    mask = th.zeros(3492).bool()\n",
    "    mask[train[i]] = True\n",
    "    hg.nodes['M'].data['train_%d' % r] = mask\n",
    "\n",
    "    mask = th.zeros(3492).bool()\n",
    "    mask[val[i]] = True\n",
    "    hg.nodes['M'].data['val_%d' % r] = mask\n",
    "\n",
    "    mask = th.zeros(3492).bool()\n",
    "    mask[test[i]] = True\n",
    "    hg.nodes['M'].data['test_%d' % r] = mask"
   ],
   "outputs": [],
   "execution_count": 8
  },
  {
   "cell_type": "code",
   "id": "977e0a99-cf8e-4820-9eff-aed41a89aa88",
   "metadata": {
    "ExecuteTime": {
     "end_time": "2024-06-26T02:07:25.265178Z",
     "start_time": "2024-06-26T02:07:18.422671Z"
    }
   },
   "source": [
    "dgl.save_graphs('data/freebase4HGMAE.bin', hg)\n"
   ],
   "outputs": [],
   "execution_count": 9
  },
  {
   "cell_type": "code",
   "id": "ca785f99-c599-41c5-adc2-9028a26cd5a6",
   "metadata": {
    "ExecuteTime": {
     "end_time": "2024-06-26T02:07:25.357703Z",
     "start_time": "2024-06-26T02:07:25.267178Z"
    }
   },
   "source": [
    "a1 = dgl.metapath_reachable_graph(hg, meta_paths_dict['MAM']).adjacency_matrix().to_dense()\n",
    "a2 = mam.to_dense()\n",
    "th.equal(a1, a2)\n"
   ],
   "outputs": [
    {
     "data": {
      "text/plain": [
       "True"
      ]
     },
     "execution_count": 10,
     "metadata": {},
     "output_type": "execute_result"
    }
   ],
   "execution_count": 10
  },
  {
   "cell_type": "code",
   "id": "d1787bd4-82c8-477a-8b5c-de79fc47ad50",
   "metadata": {
    "ExecuteTime": {
     "end_time": "2024-06-26T02:07:25.389709Z",
     "start_time": "2024-06-26T02:07:25.358706Z"
    }
   },
   "source": [
    "a1 = dgl.metapath_reachable_graph(hg, meta_paths_dict['MWM']).adjacency_matrix().to_dense()\n",
    "a2 = mwm.to_dense()\n",
    "th.equal(a1, a2)\n"
   ],
   "outputs": [
    {
     "data": {
      "text/plain": [
       "True"
      ]
     },
     "execution_count": 11,
     "metadata": {},
     "output_type": "execute_result"
    }
   ],
   "execution_count": 11
  },
  {
   "cell_type": "code",
   "id": "91c4c534-d043-4c28-b0d3-997142f1acd1",
   "metadata": {
    "ExecuteTime": {
     "end_time": "2024-06-26T02:07:25.422706Z",
     "start_time": "2024-06-26T02:07:25.391706Z"
    }
   },
   "source": [
    "a1 = dgl.metapath_reachable_graph(hg, meta_paths_dict['MAM']).adjacency_matrix().to_dense()\n",
    "a2 = mam.to_dense()\n",
    "th.equal(a1, a2)\n"
   ],
   "outputs": [
    {
     "data": {
      "text/plain": [
       "True"
      ]
     },
     "execution_count": 12,
     "metadata": {},
     "output_type": "execute_result"
    }
   ],
   "execution_count": 12
  },
  {
   "cell_type": "code",
   "id": "b8e9cc3b-c2cb-4090-a218-107da5fdbeee",
   "metadata": {},
   "source": [],
   "outputs": [],
   "execution_count": null
  },
  {
   "metadata": {
    "ExecuteTime": {
     "end_time": "2024-06-26T02:08:47.158155Z",
     "start_time": "2024-06-26T02:08:47.154155Z"
    }
   },
   "cell_type": "code",
   "source": "",
   "id": "dc8b2438ab7fa3ff",
   "outputs": [],
   "execution_count": 18
  },
  {
   "metadata": {},
   "cell_type": "code",
   "outputs": [],
   "execution_count": null,
   "source": "",
   "id": "327439e1d411d0f5"
  }
 ],
 "metadata": {
  "kernelspec": {
   "display_name": "GML",
   "language": "python",
   "name": "gml"
  },
  "language_info": {
   "codemirror_mode": {
    "name": "ipython",
    "version": 3
   },
   "file_extension": ".py",
   "mimetype": "text/x-python",
   "name": "python",
   "nbconvert_exporter": "python",
   "pygments_lexer": "ipython3",
   "version": "3.9.19"
  },
  "widgets": {
   "application/vnd.jupyter.widget-state+json": {
    "state": {},
    "version_major": 2,
    "version_minor": 0
   }
  }
 },
 "nbformat": 4,
 "nbformat_minor": 5
}
