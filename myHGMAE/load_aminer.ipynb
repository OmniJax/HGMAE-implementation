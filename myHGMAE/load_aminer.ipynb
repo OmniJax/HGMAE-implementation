{
 "cells": [
  {
   "cell_type": "code",
   "execution_count": 3,
   "id": "ac6f9d57-c9a0-4334-b729-78572c76bb4d",
   "metadata": {},
   "outputs": [
    {
     "name": "stderr",
     "output_type": "stream",
     "text": [
      "E:\\Softwares\\anaconda3\\envs\\GML\\lib\\site-packages\\tqdm\\auto.py:21: TqdmWarning: IProgress not found. Please update jupyter and ipywidgets. See https://ipywidgets.readthedocs.io/en/stable/user_install.html\n",
      "  from .autonotebook import tqdm as notebook_tqdm\n"
     ]
    }
   ],
   "source": [
    "import dgl\n",
    "import numpy as np\n",
    "import scipy.sparse as sp\n",
    "import torch as th"
   ]
  },
  {
   "cell_type": "code",
   "execution_count": null,
   "id": "24526076-dc78-4bbe-b2c8-10696e5eb9a3",
   "metadata": {},
   "outputs": [],
   "source": [
    "data_folder = \"data/\"\n",
    "path = data_folder + \"aminer/\"\n",
    "\n",
    "type_num = [6564, 13329, 35890]\n",
    "num_classes = 4\n",
    "ratio=[20,40,60]\n",
    "\n",
    "label = np.load(path + \"labels.npy\")\n",
    "nei_a = np.load(path + \"nei_a.npy\", allow_pickle=True)\n",
    "nei_r = np.load(path + \"nei_r.npy\", allow_pickle=True)\n",
    "# Because none of P, A or R has features, we assign one-hot encodings to all of them.\n",
    "feat_p = sp.eye(type_num[0])\n",
    "feat_a = sp.eye(type_num[1])\n",
    "feat_r = sp.eye(type_num[2])\n",
    "pap = sp.load_npz(path + \"pap.npz\")\n",
    "prp = sp.load_npz(path + \"prp.npz\")\n",
    "pos = sp.load_npz(path + \"pos.npz\")\n",
    "\n",
    "\n",
    "train = [np.load(path + \"train_\" + str(i) + \".npy\") for i in ratio]\n",
    "test = [np.load(path + \"test_\" + str(i) + \".npy\") for i in ratio]\n",
    "val = [np.load(path + \"val_\" + str(i) + \".npy\") for i in ratio]\n",
    "\n",
    "label = th.LongTensor(label)\n",
    "nei_a = [th.LongTensor(i) for i in nei_a]\n",
    "nei_r = [th.LongTensor(i) for i in nei_r]\n",
    "\n",
    "# 源码此步preprocess_features\n",
    "feat_p = th.FloatTensor(feat_p.todense())\n",
    "feat_a = th.FloatTensor(feat_a.todense())\n",
    "# feat_r = th.FloatTensor(feat_r.todense())\n",
    "\n",
    "\n",
    "pap = th.FloatTensor(pap.todense()).to_sparse()\n",
    "prp = th.FloatTensor(prp.todense()).to_sparse()\n",
    "\n",
    "train = [th.LongTensor(i) for i in train]\n",
    "val = [th.LongTensor(i) for i in val]\n",
    "test = [th.LongTensor(i) for i in test]"
   ]
  },
  {
   "cell_type": "code",
   "execution_count": 95,
   "id": "6b0d0134-ee61-46b8-891e-9ca98ed56e7d",
   "metadata": {},
   "outputs": [],
   "source": []
  },
  {
   "cell_type": "code",
   "execution_count": null,
   "id": "5905c1f8-0c4a-4c13-89d6-3cba5570513a",
   "metadata": {},
   "outputs": [],
   "source": []
  },
  {
   "cell_type": "code",
   "execution_count": null,
   "id": "d9534ef9-c787-46ae-b830-8b240d435020",
   "metadata": {},
   "outputs": [],
   "source": []
  }
 ],
 "metadata": {
  "kernelspec": {
   "display_name": "GML",
   "language": "python",
   "name": "gml"
  },
  "language_info": {
   "codemirror_mode": {
    "name": "ipython",
    "version": 3
   },
   "file_extension": ".py",
   "mimetype": "text/x-python",
   "name": "python",
   "nbconvert_exporter": "python",
   "pygments_lexer": "ipython3",
   "version": "3.9.19"
  },
  "widgets": {
   "application/vnd.jupyter.widget-state+json": {
    "state": {},
    "version_major": 2,
    "version_minor": 0
   }
  }
 },
 "nbformat": 4,
 "nbformat_minor": 5
}
