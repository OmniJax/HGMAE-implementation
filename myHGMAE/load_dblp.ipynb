{
 "cells": [
  {
   "cell_type": "code",
   "execution_count": 5,
   "id": "dc378d4b-5b31-417c-9ffe-46825148bb12",
   "metadata": {},
   "outputs": [
    {
     "name": "stderr",
     "output_type": "stream",
     "text": [
      "E:\\Softwares\\anaconda3\\envs\\GML\\lib\\site-packages\\tqdm\\auto.py:21: TqdmWarning: IProgress not found. Please update jupyter and ipywidgets. See https://ipywidgets.readthedocs.io/en/stable/user_install.html\n",
      "  from .autonotebook import tqdm as notebook_tqdm\n"
     ]
    }
   ],
   "source": [
    "import dgl\n",
    "import numpy as np\n",
    "import scipy.sparse as sp\n",
    "import torch as th"
   ]
  },
  {
   "cell_type": "code",
   "execution_count": 10,
   "id": "5e09e622-dd4c-4234-ba53-24b9a29fa359",
   "metadata": {},
   "outputs": [],
   "source": [
    "data_folder = \"data/\"\n",
    "path = data_folder + \"dblp/\""
   ]
  },
  {
   "cell_type": "code",
   "execution_count": 118,
   "id": "53c635ae-377e-41eb-b0c0-60eff567a9b8",
   "metadata": {},
   "outputs": [],
   "source": [
    "label = np.load(path + \"labels.npy\")\n",
    "\n",
    "type_num = [4057, 14328, 7723, 20]  # the number of every node type\n",
    "ratio = [20, 40, 60]\n",
    "\n",
    "# \"nei_num\": 1,  # the number of neighbors' types\n",
    "# \"n_labels\": 4,\n",
    "# author paper venue term\n",
    "\n",
    "nei_p = np.load(path + \"nei_p.npy\", allow_pickle=True)\n",
    "feat_a = sp.load_npz(path + \"a_feat.npz\").astype(\"float32\")\n",
    "feat_p = sp.eye(type_num[1])\n",
    "apa = sp.load_npz(path + \"apa.npz\")\n",
    "apcpa = sp.load_npz(path + \"apcpa.npz\")\n",
    "aptpa = sp.load_npz(path + \"aptpa.npz\")\n",
    "pos = sp.load_npz(path + \"pos.npz\")\n",
    "train = [np.load(path + \"train_\" + str(i) + \".npy\") for i in ratio]\n",
    "test = [np.load(path + \"test_\" + str(i) + \".npy\") for i in ratio]\n",
    "val = [np.load(path + \"val_\" + str(i) + \".npy\") for i in ratio]\n",
    "\n",
    "label = th.LongTensor(label)\n",
    "\n",
    "nei_p = [th.LongTensor(i) for i in nei_p]\n",
    "\n",
    "# 源码此步preprocess_features\n",
    "feat_p = th.FloatTensor(feat_p.todense())\n",
    "feat_a = th.FloatTensor(feat_a.todense())\n",
    "apa = th.FloatTensor(apa.todense()).to_sparse()\n",
    "apcpa = th.FloatTensor(apcpa.todense()).to_sparse()\n",
    "aptpa = th.FloatTensor(aptpa.todense()).to_sparse()\n",
    "pos = th.FloatTensor(pos.todense()).to_sparse()\n",
    "\n",
    "train = [th.LongTensor(i) for i in train]\n",
    "val = [th.LongTensor(i) for i in val]\n",
    "test = [th.LongTensor(i) for i in test]\n",
    "\n",
    "\n",
    "# self.meta_paths_dict = {'APA': [('author', 'author-paper', 'paper'), ('paper', 'paper-author', 'author')],\n",
    "#                                    'APTPA': [('author', 'author-paper', 'paper'), ('paper', 'paper-term', 'term'),\n",
    "#                                              ('term', 'term-paper', 'paper'), ('paper', 'paper-author', 'author')],\n",
    "#                                    'APVPA': [('author', 'author-paper', 'paper'), ('paper', 'paper-venue', 'venue'),\n",
    "#                                              ('venue', 'venue-paper', 'paper'), ('paper', 'paper-author', 'author')],\n",
    "#                                    }"
   ]
  },
  {
   "cell_type": "code",
   "execution_count": 125,
   "id": "038d22e9-059b-4350-97e9-401ea05cd816",
   "metadata": {},
   "outputs": [],
   "source": [
    "# adj\n",
    "neis = [nei_p]\n",
    "links = []\n",
    "for src, nei in enumerate(neis):\n",
    "    dst_array_concat = th.concatenate(nei)  # .unsqueeze(0)\n",
    "    src_array_concat = []\n",
    "    for src_id, dst_array in enumerate(nei):\n",
    "        src_array_concat.extend([src_id] * len(dst_array))\n",
    "    src_array_concat = th.tensor(src_array_concat)  # .unsqueeze(0)\n",
    "    index = th.vstack([src_array_concat, dst_array_concat])\n",
    "    links.append(index)\n",
    "    index = th.vstack([dst_array_concat, src_array_concat])\n",
    "    links.append(index)"
   ]
  },
  {
   "cell_type": "code",
   "execution_count": 134,
   "id": "30a09b7c-4bdf-4897-aea7-205ae0f5d2ef",
   "metadata": {},
   "outputs": [],
   "source": [
    "data_dict = {\n",
    "    (\"author\", \"author-paper\", \"paper\"): (links[0][0], links[0][1]),\n",
    "    (\"paper\", \"paper-author\", \"author\"): (links[1][0], links[1][1]),\n",
    "}"
   ]
  },
  {
   "cell_type": "code",
   "execution_count": 142,
   "id": "1b7ccd95-3c9c-48a0-96e2-ac243b85cf0b",
   "metadata": {},
   "outputs": [
    {
     "data": {
      "text/plain": [
       "torch.Size([4057, 334])"
      ]
     },
     "execution_count": 142,
     "metadata": {},
     "output_type": "execute_result"
    }
   ],
   "source": [
    "feat_a.shape"
   ]
  },
  {
   "cell_type": "code",
   "execution_count": null,
   "id": "cb615c8e-ad6c-40d3-ba27-1371ee2bfc13",
   "metadata": {},
   "outputs": [],
   "source": []
  },
  {
   "cell_type": "code",
   "execution_count": 158,
   "id": "3d91cdd9-3245-45ee-892f-cd399d9f9028",
   "metadata": {},
   "outputs": [
    {
     "data": {
      "text/plain": [
       "tensor([1.3923e+188], dtype=torch.float64)"
      ]
     },
     "execution_count": 158,
     "metadata": {},
     "output_type": "execute_result"
    }
   ],
   "source": []
  },
  {
   "cell_type": "code",
   "execution_count": null,
   "id": "d8f8efe5-00e8-4b20-a6c1-55e45baaae91",
   "metadata": {},
   "outputs": [],
   "source": []
  }
 ],
 "metadata": {
  "kernelspec": {
   "display_name": "GML",
   "language": "python",
   "name": "gml"
  },
  "language_info": {
   "codemirror_mode": {
    "name": "ipython",
    "version": 3
   },
   "file_extension": ".py",
   "mimetype": "text/x-python",
   "name": "python",
   "nbconvert_exporter": "python",
   "pygments_lexer": "ipython3",
   "version": "3.9.19"
  },
  "widgets": {
   "application/vnd.jupyter.widget-state+json": {
    "state": {},
    "version_major": 2,
    "version_minor": 0
   }
  }
 },
 "nbformat": 4,
 "nbformat_minor": 5
}
