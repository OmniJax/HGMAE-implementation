{
 "cells": [
  {
   "cell_type": "code",
   "execution_count": 5,
   "id": "dc378d4b-5b31-417c-9ffe-46825148bb12",
   "metadata": {},
   "outputs": [
    {
     "name": "stderr",
     "output_type": "stream",
     "text": [
      "E:\\Softwares\\anaconda3\\envs\\GML\\lib\\site-packages\\tqdm\\auto.py:21: TqdmWarning: IProgress not found. Please update jupyter and ipywidgets. See https://ipywidgets.readthedocs.io/en/stable/user_install.html\n",
      "  from .autonotebook import tqdm as notebook_tqdm\n"
     ]
    }
   ],
   "source": [
    "import dgl\n",
    "import numpy as np\n",
    "import scipy.sparse as sp\n",
    "import torch as th"
   ]
  },
  {
   "cell_type": "code",
   "execution_count": 10,
   "id": "5e09e622-dd4c-4234-ba53-24b9a29fa359",
   "metadata": {},
   "outputs": [],
   "source": [
    "data_folder = \"data/\"\n",
    "path = data_folder + \"dblp/\""
   ]
  },
  {
   "cell_type": "code",
   "execution_count": 118,
   "id": "53c635ae-377e-41eb-b0c0-60eff567a9b8",
   "metadata": {},
   "outputs": [],
   "source": [
    "label = np.load(path + \"labels.npy\")\n",
    "\n",
    "type_num = [4057, 14328, 7723, 20]  # the number of every node type\n",
    "ratio = [20, 40, 60]\n",
    "\n",
    "# \"nei_num\": 1,  # the number of neighbors' types\n",
    "# \"n_labels\": 4,\n",
    "# author paper venue term\n",
    "\n",
    "nei_p = np.load(path + \"nei_p.npy\", allow_pickle=True)\n",
    "feat_a = sp.load_npz(path + \"a_feat.npz\").astype(\"float32\")\n",
    "feat_p = sp.eye(type_num[1])\n",
    "apa = sp.load_npz(path + \"apa.npz\")\n",
    "apcpa = sp.load_npz(path + \"apcpa.npz\")\n",
    "aptpa = sp.load_npz(path + \"aptpa.npz\")\n",
    "pos = sp.load_npz(path + \"pos.npz\")\n",
    "train = [np.load(path + \"train_\" + str(i) + \".npy\") for i in ratio]\n",
    "test = [np.load(path + \"test_\" + str(i) + \".npy\") for i in ratio]\n",
    "val = [np.load(path + \"val_\" + str(i) + \".npy\") for i in ratio]\n",
    "\n",
    "label = th.LongTensor(label)\n",
    "\n",
    "nei_p = [th.LongTensor(i) for i in nei_p]\n",
    "\n",
    "# 源码此步preprocess_features\n",
    "feat_p = th.FloatTensor(feat_p.todense())\n",
    "feat_a = th.FloatTensor(feat_a.todense())\n",
    "apa = th.FloatTensor(apa.todense()).to_sparse()\n",
    "apcpa = th.FloatTensor(apcpa.todense()).to_sparse()\n",
    "aptpa = th.FloatTensor(aptpa.todense()).to_sparse()\n",
    "pos = th.FloatTensor(pos.todense()).to_sparse()\n",
    "\n",
    "train = [th.LongTensor(i) for i in train]\n",
    "val = [th.LongTensor(i) for i in val]\n",
    "test = [th.LongTensor(i) for i in test]\n",
    "\n",
    "\n",
    "# self.meta_paths_dict = {'APA': [('author', 'author-paper', 'paper'), ('paper', 'paper-author', 'author')],\n",
    "#                                    'APTPA': [('author', 'author-paper', 'paper'), ('paper', 'paper-term', 'term'),\n",
    "#                                              ('term', 'term-paper', 'paper'), ('paper', 'paper-author', 'author')],\n",
    "#                                    'APVPA': [('author', 'author-paper', 'paper'), ('paper', 'paper-venue', 'venue'),\n",
    "#                                              ('venue', 'venue-paper', 'paper'), ('paper', 'paper-author', 'author')],\n",
    "#                                    }"
   ]
  },
  {
   "cell_type": "code",
   "execution_count": 125,
   "id": "038d22e9-059b-4350-97e9-401ea05cd816",
   "metadata": {},
   "outputs": [],
   "source": [
    "# adj\n",
    "neis = [nei_p]\n",
    "links = []\n",
    "for src, nei in enumerate(neis):\n",
    "    dst_array_concat = th.concatenate(nei)  # .unsqueeze(0)\n",
    "    src_array_concat = []\n",
    "    for src_id, dst_array in enumerate(nei):\n",
    "        src_array_concat.extend([src_id] * len(dst_array))\n",
    "    src_array_concat = th.tensor(src_array_concat)  # .unsqueeze(0)\n",
    "    index = th.vstack([src_array_concat, dst_array_concat])\n",
    "    links.append(index)\n",
    "    index = th.vstack([dst_array_concat, src_array_concat])\n",
    "    links.append(index)"
   ]
  },
  {
   "cell_type": "code",
   "execution_count": 134,
   "id": "30a09b7c-4bdf-4897-aea7-205ae0f5d2ef",
   "metadata": {},
   "outputs": [],
   "source": [
    "data_dict = {\n",
    "    (\"author\", \"author-paper\", \"paper\"): (links[0][0], links[0][1]),\n",
    "    (\"paper\", \"paper-author\", \"author\"): (links[1][0], links[1][1]),\n",
    "}"
   ]
  },
  {
   "cell_type": "code",
   "execution_count": 142,
   "id": "1b7ccd95-3c9c-48a0-96e2-ac243b85cf0b",
   "metadata": {},
   "outputs": [
    {
     "data": {
      "text/plain": [
       "torch.Size([4057, 334])"
      ]
     },
     "execution_count": 142,
     "metadata": {},
     "output_type": "execute_result"
    }
   ],
   "source": [
    "feat_a.shape"
   ]
  },
  {
   "cell_type": "code",
   "execution_count": null,
   "id": "cb615c8e-ad6c-40d3-ba27-1371ee2bfc13",
   "metadata": {},
   "outputs": [],
   "source": []
  },
  {
   "cell_type": "code",
   "execution_count": null,
   "id": "3d91cdd9-3245-45ee-892f-cd399d9f9028",
   "metadata": {},
   "outputs": [],
   "source": []
  },
  {
   "cell_type": "code",
   "execution_count": null,
   "id": "d8f8efe5-00e8-4b20-a6c1-55e45baaae91",
   "metadata": {},
   "outputs": [],
   "source": []
  },
  {
   "cell_type": "code",
   "execution_count": null,
   "id": "acb02b70-5a1b-47a0-ab2b-91d060c6c7d8",
   "metadata": {},
   "outputs": [],
   "source": []
  },
  {
   "cell_type": "code",
   "execution_count": null,
   "id": "0e7ec26c-b417-455e-abd1-c1601443726e",
   "metadata": {},
   "outputs": [],
   "source": []
  },
  {
   "cell_type": "code",
   "execution_count": null,
   "id": "f5027a12-a81c-435f-9519-371bf1d45d55",
   "metadata": {},
   "outputs": [],
   "source": []
  },
  {
   "cell_type": "code",
   "execution_count": null,
   "id": "7bf9b704-8f6d-4a31-b6f6-371fa75bbefb",
   "metadata": {},
   "outputs": [],
   "source": []
  },
  {
   "cell_type": "code",
   "execution_count": null,
   "id": "dfb7c9e2-b01b-4885-adcb-ced8c429879f",
   "metadata": {},
   "outputs": [],
   "source": []
  },
  {
   "cell_type": "code",
   "execution_count": null,
   "id": "c8b10318-140d-40cd-8d46-cd0410c9cff3",
   "metadata": {},
   "outputs": [],
   "source": []
  },
  {
   "cell_type": "code",
   "execution_count": null,
   "id": "297feea7-8dea-4164-bb78-569c03955455",
   "metadata": {},
   "outputs": [],
   "source": []
  },
  {
   "cell_type": "code",
   "execution_count": null,
   "id": "dbf54d95-2dcf-4dce-a1e4-c40727fc5d86",
   "metadata": {},
   "outputs": [],
   "source": []
  },
  {
   "cell_type": "code",
   "execution_count": null,
   "id": "3ef3aa30-a5ec-47fb-9928-4046d8054e35",
   "metadata": {},
   "outputs": [],
   "source": []
  },
  {
   "cell_type": "code",
   "execution_count": null,
   "id": "bf4b7ae4-19d0-43e2-8e50-82c140bb1553",
   "metadata": {},
   "outputs": [],
   "source": []
  },
  {
   "cell_type": "code",
   "execution_count": null,
   "id": "bdccbb53-6710-438d-8c90-864de07c06cb",
   "metadata": {},
   "outputs": [],
   "source": []
  },
  {
   "cell_type": "code",
   "execution_count": null,
   "id": "31556410-3c13-454b-a148-da07e95399b3",
   "metadata": {},
   "outputs": [],
   "source": []
  },
  {
   "cell_type": "code",
   "execution_count": null,
   "id": "9d11eaac-f913-46bd-8c40-5a8bad0c03ae",
   "metadata": {},
   "outputs": [],
   "source": []
  },
  {
   "cell_type": "code",
   "execution_count": null,
   "id": "ee803f37-6a0e-44b5-be64-06f4228c8e87",
   "metadata": {},
   "outputs": [],
   "source": []
  },
  {
   "cell_type": "code",
   "execution_count": 184,
   "id": "2972b5ed-4844-49fa-b420-1ca21fba6ad4",
   "metadata": {},
   "outputs": [
    {
     "name": "stdout",
     "output_type": "stream",
     "text": [
      "Extracting file to ./openhgnn/dataset\\HGBn\n",
      "Done saving data into cached files.\n"
     ]
    }
   ],
   "source": [
    "from openhgnn.dataset.NodeClassificationDataset import OHGB_NodeClassification,HGB_NodeClassification\n",
    "# dataset = OHGB_NodeClassification(\"ohgbn-acm\", raw_dir=\"./dataset\", logger=None)\n",
    "dataset = HGB_NodeClassification(\"HGBn-DBLP\", raw_dir=\"./dataset\", logger=None)\n"
   ]
  },
  {
   "cell_type": "code",
   "execution_count": 208,
   "id": "d2e51fc8-4cf0-4289-a697-a5e5399c0bef",
   "metadata": {},
   "outputs": [
    {
     "data": {
      "text/plain": [
       "4"
      ]
     },
     "execution_count": 208,
     "metadata": {},
     "output_type": "execute_result"
    }
   ],
   "source": [
    "hg=dataset.g\n",
    "\n",
    "category=dataset.category\n",
    "dataset.num_classes"
   ]
  },
  {
   "cell_type": "code",
   "execution_count": 186,
   "id": "36386565-5862-4771-b449-6d43494fbe1f",
   "metadata": {},
   "outputs": [
    {
     "data": {
      "text/plain": [
       "torch.Size([14328, 4231])"
      ]
     },
     "execution_count": 186,
     "metadata": {},
     "output_type": "execute_result"
    }
   ],
   "source": [
    "import numpy as np\n",
    "\n",
    "hg.ndata['h']['paper'].shape"
   ]
  },
  {
   "cell_type": "code",
   "execution_count": 187,
   "id": "c301f3a8-0995-4a63-a2ae-dcb7d1a93a10",
   "metadata": {},
   "outputs": [
    {
     "data": {
      "text/plain": [
       "torch.Size([4057, 334])"
      ]
     },
     "execution_count": 187,
     "metadata": {},
     "output_type": "execute_result"
    }
   ],
   "source": [
    "hg.ndata['h']['author'].shape"
   ]
  },
  {
   "cell_type": "code",
   "execution_count": 204,
   "id": "7c189ae6-6277-476a-9cd7-4bc74735f979",
   "metadata": {},
   "outputs": [
    {
     "data": {
      "text/plain": [
       "{'author': tensor([0, 1, 1,  ..., 1, 1, 1], dtype=torch.uint8)}"
      ]
     },
     "execution_count": 204,
     "metadata": {},
     "output_type": "execute_result"
    }
   ],
   "source": [
    "hg.ndata['test_mask']"
   ]
  },
  {
   "cell_type": "code",
   "execution_count": 210,
   "id": "32381a58-dbf8-4735-a082-a2ad4fcafa8f",
   "metadata": {},
   "outputs": [
    {
     "data": {
      "text/plain": [
       "{'APA': [('author', 'author-paper', 'paper'),\n",
       "  ('paper', 'paper-author', 'author')],\n",
       " 'APTPA': [('author', 'author-paper', 'paper'),\n",
       "  ('paper', 'paper-term', 'term'),\n",
       "  ('term', 'term-paper', 'paper'),\n",
       "  ('paper', 'paper-author', 'author')],\n",
       " 'APVPA': [('author', 'author-paper', 'paper'),\n",
       "  ('paper', 'paper-venue', 'venue'),\n",
       "  ('venue', 'venue-paper', 'paper'),\n",
       "  ('paper', 'paper-author', 'author')]}"
      ]
     },
     "execution_count": 210,
     "metadata": {},
     "output_type": "execute_result"
    }
   ],
   "source": [
    "dataset.meta_paths_dict"
   ]
  },
  {
   "cell_type": "code",
   "execution_count": null,
   "id": "86562348-c4f4-4f55-9c33-ffdea8391150",
   "metadata": {},
   "outputs": [],
   "source": []
  },
  {
   "cell_type": "code",
   "execution_count": null,
   "id": "27e6387f-345d-4610-a1e6-d6e272e8c963",
   "metadata": {},
   "outputs": [],
   "source": []
  }
 ],
 "metadata": {
  "kernelspec": {
   "display_name": "GML",
   "language": "python",
   "name": "gml"
  },
  "language_info": {
   "codemirror_mode": {
    "name": "ipython",
    "version": 3
   },
   "file_extension": ".py",
   "mimetype": "text/x-python",
   "name": "python",
   "nbconvert_exporter": "python",
   "pygments_lexer": "ipython3",
   "version": "3.9.19"
  },
  "widgets": {
   "application/vnd.jupyter.widget-state+json": {
    "state": {},
    "version_major": 2,
    "version_minor": 0
   }
  }
 },
 "nbformat": 4,
 "nbformat_minor": 5
}
