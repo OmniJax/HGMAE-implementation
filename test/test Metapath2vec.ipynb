{
 "cells": [
  {
   "cell_type": "code",
   "execution_count": 136,
   "id": "70654efd-6f91-4218-902f-1ae79ec06a49",
   "metadata": {},
   "outputs": [
    {
     "name": "stdout",
     "output_type": "stream",
     "text": [
      "Extracting file to ./openhgnn/dataset\\ohgbn-acm\n",
      "Done saving data into cached files.\n"
     ]
    }
   ],
   "source": [
    "import dgl\n",
    "import torch\n",
    "import torch.nn as nn\n",
    "from dgl.nn import MetaPath2Vec\n",
    "from openhgnn.dataset.NodeClassificationDataset import OHGB_NodeClassification\n",
    "from torch.optim import SparseAdam\n",
    "from torch.utils.data import DataLoader\n",
    "from tqdm import tqdm\n",
    "\n",
    "\n",
    "acm = OHGB_NodeClassification(\n",
    "    dataset_name=\"ohgbn-acm\", raw_dir=\"./dataset\", logger=None\n",
    ")"
   ]
  },
  {
   "cell_type": "code",
   "execution_count": 2,
   "id": "78189793-eaaf-4e09-8e1e-311472bde032",
   "metadata": {},
   "outputs": [],
   "source": [
    "hg = acm.g\n",
    "meta_paths_dict = acm.meta_paths_dict"
   ]
  },
  {
   "cell_type": "code",
   "execution_count": 3,
   "id": "b5317214-485b-4fb6-a247-d7881d355af0",
   "metadata": {},
   "outputs": [],
   "source": [
    "g_pap = dgl.metapath_reachable_graph(hg, meta_paths_dict[\"PAP\"])"
   ]
  },
  {
   "cell_type": "markdown",
   "id": "3b56fcff-5518-4f89-a082-a84eaac2b7fb",
   "metadata": {},
   "source": [
    "## test Mp2Vec"
   ]
  },
  {
   "cell_type": "code",
   "execution_count": 145,
   "id": "f523e301-af1f-46bf-a375-1b911802b414",
   "metadata": {},
   "outputs": [],
   "source": [
    "m2v_negative_size = 5\n",
    "m2v_emb_dim = 128\n",
    "m2v_window_size = 3\n",
    "m2v_lr = 0.001\n",
    "\n",
    "m2v_batch_size: 256\n",
    "m2v_epoch= 20\n",
    "\n",
    "# m2v_rw_walk_length= 10\n",
    "# m2v_rw_walks_per_node= 3\n"
   ]
  },
  {
   "cell_type": "code",
   "execution_count": 146,
   "id": "3619fb4f-8a48-4ac7-9e15-6bf462d0d690",
   "metadata": {},
   "outputs": [
    {
     "name": "stderr",
     "output_type": "stream",
     "text": [
      "100%|████████████████████████████████████████████████████████████████████████████| 3025/3025 [00:02<00:00, 1496.39it/s]\n"
     ]
    }
   ],
   "source": [
    "m2v = MetaPath2Vec(hg, meta_paths_dict[\"PAP\"], window_size=3)"
   ]
  },
  {
   "cell_type": "code",
   "execution_count": 147,
   "id": "a17c7488-d038-4bea-80fc-53ba33675f6b",
   "metadata": {},
   "outputs": [],
   "source": [
    "optimizer = SparseAdam(m2v.parameters(), lr=m2v_lr)"
   ]
  },
  {
   "cell_type": "code",
   "execution_count": null,
   "id": "f55c63e3-8efb-40a6-beee-2dd7b17e6858",
   "metadata": {},
   "outputs": [],
   "source": []
  },
  {
   "cell_type": "code",
   "execution_count": 148,
   "id": "b918e4d2-9d48-454d-9dbf-6e497d43e6cb",
   "metadata": {},
   "outputs": [],
   "source": [
    "dataloader = DataLoader(\n",
    "    torch.arange(hg.num_nodes(\"paper\")),\n",
    "    batch_size=128,\n",
    "    shuffle=True,\n",
    "    collate_fn=m2v.sample,\n",
    ")"
   ]
  },
  {
   "cell_type": "code",
   "execution_count": 149,
   "id": "d6c3b369-7856-4aa5-8a25-c27702b782d5",
   "metadata": {
    "scrolled": true
   },
   "outputs": [
    {
     "name": "stderr",
     "output_type": "stream",
     "text": [
      "100%|██████████████████████████████████████████████████████████████████████████████████| 20/20 [00:05<00:00,  3.68it/s]\n"
     ]
    }
   ],
   "source": [
    "for _ in tqdm(range(m2v_epoch)):\n",
    "    for (pos_u, pos_v, neg_v) in dataloader:\n",
    "        loss = m2v(pos_u, pos_v, neg_v)\n",
    "        optimizer.zero_grad()\n",
    "        loss.backward()\n",
    "    optimizer.step()"
   ]
  },
  {
   "cell_type": "code",
   "execution_count": 150,
   "id": "4ffda7b2-bbe1-4b30-88c5-bae53986bb09",
   "metadata": {},
   "outputs": [],
   "source": [
    "# Get the embeddings of all user nodes\n",
    "user_nids = torch.LongTensor(m2v.local_to_global_nid[\"paper\"])\n",
    "user_emb = m2v.node_embed(user_nids)"
   ]
  },
  {
   "cell_type": "code",
   "execution_count": null,
   "id": "259eff6a-36d8-419c-bb82-0da0bcab8d91",
   "metadata": {},
   "outputs": [],
   "source": []
  },
  {
   "cell_type": "code",
   "execution_count": null,
   "id": "cffb3b8d-7061-4b4f-a86f-b41d681112a0",
   "metadata": {},
   "outputs": [],
   "source": []
  },
  {
   "cell_type": "code",
   "execution_count": null,
   "id": "d039d992-1d69-4e7f-830d-c688de64c5bc",
   "metadata": {},
   "outputs": [],
   "source": []
  },
  {
   "cell_type": "code",
   "execution_count": null,
   "id": "6f06e766-6171-405d-aff1-cd410459ee68",
   "metadata": {},
   "outputs": [],
   "source": []
  },
  {
   "cell_type": "code",
   "execution_count": null,
   "id": "45576a88-ae5f-43bf-b908-70eefc5f9d6d",
   "metadata": {},
   "outputs": [],
   "source": []
  }
 ],
 "metadata": {
  "kernelspec": {
   "display_name": "GML",
   "language": "python",
   "name": "gml"
  },
  "language_info": {
   "codemirror_mode": {
    "name": "ipython",
    "version": 3
   },
   "file_extension": ".py",
   "mimetype": "text/x-python",
   "name": "python",
   "nbconvert_exporter": "python",
   "pygments_lexer": "ipython3",
   "version": "3.9.19"
  },
  "widgets": {
   "application/vnd.jupyter.widget-state+json": {
    "state": {},
    "version_major": 2,
    "version_minor": 0
   }
  }
 },
 "nbformat": 4,
 "nbformat_minor": 5
}
